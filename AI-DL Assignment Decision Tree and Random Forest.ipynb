{
 "cells": [
  {
   "cell_type": "code",
   "execution_count": 4,
   "metadata": {},
   "outputs": [],
   "source": [
    "# Import visuals\n",
    "import seaborn as sns\n",
    "import matplotlib.pyplot as plt\n",
    "import plotly.graph_objs as go\n",
    "# Import pandas\n",
    "import pandas as pd\n",
    "\n",
    "# Import numpy\n",
    "import numpy as np\n",
    "\n",
    "# Import statsmodels\n",
    "from sklearn.preprocessing import StandardScaler\n",
    "from sklearn.metrics import confusion_matrix\n",
    "from sklearn.metrics import roc_auc_score\n",
    "from sklearn.metrics import roc_curve\n",
    "from sklearn.model_selection import train_test_split\n",
    "from sklearn.model_selection import cross_val_score\n",
    "from sklearn.model_selection import GridSearchCV\n",
    "from sklearn.discriminant_analysis import LinearDiscriminantAnalysis\n",
    "from sklearn.ensemble import RandomForestClassifier\n",
    "from sklearn.linear_model import LogisticRegression\n",
    "from sklearn.naive_bayes import MultinomialNB\n",
    "from sklearn.metrics import accuracy_score\n",
    "from sklearn import metrics\n",
    "from sklearn.metrics import roc_curve, auc\n",
    "\n",
    "# Import scipy\n",
    "from scipy.stats import boxcox\n",
    "from scipy import stats"
   ]
  },
  {
   "cell_type": "code",
   "execution_count": 5,
   "metadata": {
    "scrolled": true
   },
   "outputs": [
    {
     "name": "stderr",
     "output_type": "stream",
     "text": [
      "/usr/local/lib/python3.7/site-packages/IPython/core/interactiveshell.py:3063: DtypeWarning:\n",
      "\n",
      "Columns (19,49,59,129,130,131,134,135,136,139) have mixed types.Specify dtype option on import or set low_memory=False.\n",
      "\n"
     ]
    },
    {
     "data": {
      "text/html": [
       "<div>\n",
       "<style scoped>\n",
       "    .dataframe tbody tr th:only-of-type {\n",
       "        vertical-align: middle;\n",
       "    }\n",
       "\n",
       "    .dataframe tbody tr th {\n",
       "        vertical-align: top;\n",
       "    }\n",
       "\n",
       "    .dataframe thead th {\n",
       "        text-align: right;\n",
       "    }\n",
       "</style>\n",
       "<table border=\"1\" class=\"dataframe\">\n",
       "  <thead>\n",
       "    <tr style=\"text-align: right;\">\n",
       "      <th></th>\n",
       "      <th>id</th>\n",
       "      <th>member_id</th>\n",
       "      <th>loan_amnt</th>\n",
       "      <th>funded_amnt</th>\n",
       "      <th>funded_amnt_inv</th>\n",
       "      <th>term</th>\n",
       "      <th>int_rate</th>\n",
       "      <th>installment</th>\n",
       "      <th>grade</th>\n",
       "      <th>sub_grade</th>\n",
       "      <th>...</th>\n",
       "      <th>orig_projected_additional_accrued_interest</th>\n",
       "      <th>hardship_payoff_balance_amount</th>\n",
       "      <th>hardship_last_payment_amount</th>\n",
       "      <th>debt_settlement_flag</th>\n",
       "      <th>debt_settlement_flag_date</th>\n",
       "      <th>settlement_status</th>\n",
       "      <th>settlement_date</th>\n",
       "      <th>settlement_amount</th>\n",
       "      <th>settlement_percentage</th>\n",
       "      <th>settlement_term</th>\n",
       "    </tr>\n",
       "  </thead>\n",
       "  <tbody>\n",
       "    <tr>\n",
       "      <th>0</th>\n",
       "      <td>1077501</td>\n",
       "      <td>NaN</td>\n",
       "      <td>5000</td>\n",
       "      <td>5000</td>\n",
       "      <td>4975.0</td>\n",
       "      <td>36 months</td>\n",
       "      <td>0.1065</td>\n",
       "      <td>162.87</td>\n",
       "      <td>B</td>\n",
       "      <td>B2</td>\n",
       "      <td>...</td>\n",
       "      <td>NaN</td>\n",
       "      <td>NaN</td>\n",
       "      <td>NaN</td>\n",
       "      <td>N</td>\n",
       "      <td>NaN</td>\n",
       "      <td>NaN</td>\n",
       "      <td>NaN</td>\n",
       "      <td>NaN</td>\n",
       "      <td>NaN</td>\n",
       "      <td>NaN</td>\n",
       "    </tr>\n",
       "    <tr>\n",
       "      <th>1</th>\n",
       "      <td>1077430</td>\n",
       "      <td>NaN</td>\n",
       "      <td>2500</td>\n",
       "      <td>2500</td>\n",
       "      <td>2500.0</td>\n",
       "      <td>60 months</td>\n",
       "      <td>0.1527</td>\n",
       "      <td>59.83</td>\n",
       "      <td>C</td>\n",
       "      <td>C4</td>\n",
       "      <td>...</td>\n",
       "      <td>NaN</td>\n",
       "      <td>NaN</td>\n",
       "      <td>NaN</td>\n",
       "      <td>N</td>\n",
       "      <td>NaN</td>\n",
       "      <td>NaN</td>\n",
       "      <td>NaN</td>\n",
       "      <td>NaN</td>\n",
       "      <td>NaN</td>\n",
       "      <td>NaN</td>\n",
       "    </tr>\n",
       "    <tr>\n",
       "      <th>2</th>\n",
       "      <td>1077175</td>\n",
       "      <td>NaN</td>\n",
       "      <td>2400</td>\n",
       "      <td>2400</td>\n",
       "      <td>2400.0</td>\n",
       "      <td>36 months</td>\n",
       "      <td>0.1596</td>\n",
       "      <td>84.33</td>\n",
       "      <td>C</td>\n",
       "      <td>C5</td>\n",
       "      <td>...</td>\n",
       "      <td>NaN</td>\n",
       "      <td>NaN</td>\n",
       "      <td>NaN</td>\n",
       "      <td>N</td>\n",
       "      <td>NaN</td>\n",
       "      <td>NaN</td>\n",
       "      <td>NaN</td>\n",
       "      <td>NaN</td>\n",
       "      <td>NaN</td>\n",
       "      <td>NaN</td>\n",
       "    </tr>\n",
       "    <tr>\n",
       "      <th>3</th>\n",
       "      <td>1076863</td>\n",
       "      <td>NaN</td>\n",
       "      <td>10000</td>\n",
       "      <td>10000</td>\n",
       "      <td>10000.0</td>\n",
       "      <td>36 months</td>\n",
       "      <td>0.1349</td>\n",
       "      <td>339.31</td>\n",
       "      <td>C</td>\n",
       "      <td>C1</td>\n",
       "      <td>...</td>\n",
       "      <td>NaN</td>\n",
       "      <td>NaN</td>\n",
       "      <td>NaN</td>\n",
       "      <td>N</td>\n",
       "      <td>NaN</td>\n",
       "      <td>NaN</td>\n",
       "      <td>NaN</td>\n",
       "      <td>NaN</td>\n",
       "      <td>NaN</td>\n",
       "      <td>NaN</td>\n",
       "    </tr>\n",
       "    <tr>\n",
       "      <th>4</th>\n",
       "      <td>1075358</td>\n",
       "      <td>NaN</td>\n",
       "      <td>3000</td>\n",
       "      <td>3000</td>\n",
       "      <td>3000.0</td>\n",
       "      <td>60 months</td>\n",
       "      <td>0.1269</td>\n",
       "      <td>67.79</td>\n",
       "      <td>B</td>\n",
       "      <td>B5</td>\n",
       "      <td>...</td>\n",
       "      <td>NaN</td>\n",
       "      <td>NaN</td>\n",
       "      <td>NaN</td>\n",
       "      <td>N</td>\n",
       "      <td>NaN</td>\n",
       "      <td>NaN</td>\n",
       "      <td>NaN</td>\n",
       "      <td>NaN</td>\n",
       "      <td>NaN</td>\n",
       "      <td>NaN</td>\n",
       "    </tr>\n",
       "  </tbody>\n",
       "</table>\n",
       "<p>5 rows × 150 columns</p>\n",
       "</div>"
      ],
      "text/plain": [
       "        id  member_id  loan_amnt  funded_amnt  funded_amnt_inv        term  \\\n",
       "0  1077501        NaN       5000         5000           4975.0   36 months   \n",
       "1  1077430        NaN       2500         2500           2500.0   60 months   \n",
       "2  1077175        NaN       2400         2400           2400.0   36 months   \n",
       "3  1076863        NaN      10000        10000          10000.0   36 months   \n",
       "4  1075358        NaN       3000         3000           3000.0   60 months   \n",
       "\n",
       "   int_rate  installment grade sub_grade  ...  \\\n",
       "0    0.1065       162.87     B        B2  ...   \n",
       "1    0.1527        59.83     C        C4  ...   \n",
       "2    0.1596        84.33     C        C5  ...   \n",
       "3    0.1349       339.31     C        C1  ...   \n",
       "4    0.1269        67.79     B        B5  ...   \n",
       "\n",
       "  orig_projected_additional_accrued_interest hardship_payoff_balance_amount  \\\n",
       "0                                        NaN                            NaN   \n",
       "1                                        NaN                            NaN   \n",
       "2                                        NaN                            NaN   \n",
       "3                                        NaN                            NaN   \n",
       "4                                        NaN                            NaN   \n",
       "\n",
       "  hardship_last_payment_amount  debt_settlement_flag  \\\n",
       "0                          NaN                     N   \n",
       "1                          NaN                     N   \n",
       "2                          NaN                     N   \n",
       "3                          NaN                     N   \n",
       "4                          NaN                     N   \n",
       "\n",
       "  debt_settlement_flag_date settlement_status settlement_date  \\\n",
       "0                       NaN               NaN             NaN   \n",
       "1                       NaN               NaN             NaN   \n",
       "2                       NaN               NaN             NaN   \n",
       "3                       NaN               NaN             NaN   \n",
       "4                       NaN               NaN             NaN   \n",
       "\n",
       "  settlement_amount settlement_percentage settlement_term  \n",
       "0               NaN                   NaN             NaN  \n",
       "1               NaN                   NaN             NaN  \n",
       "2               NaN                   NaN             NaN  \n",
       "3               NaN                   NaN             NaN  \n",
       "4               NaN                   NaN             NaN  \n",
       "\n",
       "[5 rows x 150 columns]"
      ]
     },
     "execution_count": 5,
     "metadata": {},
     "output_type": "execute_result"
    }
   ],
   "source": [
    "full_df=pd.read_csv(\"fullacc.csv\")\n",
    "#pd.set_option('display.max_columns', None)\n",
    "full_df.head()"
   ]
  },
  {
   "cell_type": "code",
   "execution_count": 6,
   "metadata": {},
   "outputs": [
    {
     "data": {
      "text/plain": [
       "(334262, 150)"
      ]
     },
     "execution_count": 6,
     "metadata": {},
     "output_type": "execute_result"
    }
   ],
   "source": [
    "full_df.shape"
   ]
  },
  {
   "cell_type": "code",
   "execution_count": 7,
   "metadata": {},
   "outputs": [
    {
     "data": {
      "text/plain": [
       "id                         int64\n",
       "member_id                float64\n",
       "loan_amnt                  int64\n",
       "funded_amnt                int64\n",
       "funded_amnt_inv          float64\n",
       "                          ...   \n",
       "settlement_status         object\n",
       "settlement_date           object\n",
       "settlement_amount        float64\n",
       "settlement_percentage    float64\n",
       "settlement_term          float64\n",
       "Length: 150, dtype: object"
      ]
     },
     "execution_count": 7,
     "metadata": {},
     "output_type": "execute_result"
    }
   ],
   "source": [
    "full_df.dtypes"
   ]
  },
  {
   "cell_type": "code",
   "execution_count": 8,
   "metadata": {},
   "outputs": [
    {
     "name": "stdout",
     "output_type": "stream",
     "text": [
      "<class 'pandas.core.frame.DataFrame'>\n",
      "RangeIndex: 334262 entries, 0 to 334261\n",
      "Columns: 150 entries, id to settlement_term\n",
      "dtypes: float64(105), int64(9), object(36)\n",
      "memory usage: 382.5+ MB\n"
     ]
    }
   ],
   "source": [
    "full_df.info()"
   ]
  },
  {
   "cell_type": "code",
   "execution_count": 9,
   "metadata": {
    "scrolled": true
   },
   "outputs": [
    {
     "data": {
      "text/plain": [
       "<bound method NDFrame.describe of               id  member_id  loan_amnt  funded_amnt  funded_amnt_inv  \\\n",
       "0        1077501        NaN       5000         5000           4975.0   \n",
       "1        1077430        NaN       2500         2500           2500.0   \n",
       "2        1077175        NaN       2400         2400           2400.0   \n",
       "3        1076863        NaN      10000        10000          10000.0   \n",
       "4        1075358        NaN       3000         3000           3000.0   \n",
       "...          ...        ...        ...          ...              ...   \n",
       "334257  89885898        NaN      24000        24000          24000.0   \n",
       "334258  88977788        NaN      24000        24000          24000.0   \n",
       "334259  88985880        NaN      40000        40000          40000.0   \n",
       "334260  88224441        NaN      24000        24000          24000.0   \n",
       "334261  88215728        NaN      14000        14000          14000.0   \n",
       "\n",
       "              term  int_rate  installment grade sub_grade  ...  \\\n",
       "0        36 months    0.1065       162.87     B        B2  ...   \n",
       "1        60 months    0.1527        59.83     C        C4  ...   \n",
       "2        36 months    0.1596        84.33     C        C5  ...   \n",
       "3        36 months    0.1349       339.31     C        C1  ...   \n",
       "4        60 months    0.1269        67.79     B        B5  ...   \n",
       "...            ...       ...          ...   ...       ...  ...   \n",
       "334257   60 months    0.1279       543.50     C        C1  ...   \n",
       "334258   60 months    0.1049       515.74     B        B3  ...   \n",
       "334259   60 months    0.1049       859.56     B        B3  ...   \n",
       "334260   60 months    0.1449       564.56     C        C4  ...   \n",
       "334261   60 months    0.1449       329.33     C        C4  ...   \n",
       "\n",
       "       orig_projected_additional_accrued_interest  \\\n",
       "0                                             NaN   \n",
       "1                                             NaN   \n",
       "2                                             NaN   \n",
       "3                                             NaN   \n",
       "4                                             NaN   \n",
       "...                                           ...   \n",
       "334257                                        NaN   \n",
       "334258                                        NaN   \n",
       "334259                                        NaN   \n",
       "334260                                        NaN   \n",
       "334261                                        NaN   \n",
       "\n",
       "       hardship_payoff_balance_amount hardship_last_payment_amount  \\\n",
       "0                                 NaN                          NaN   \n",
       "1                                 NaN                          NaN   \n",
       "2                                 NaN                          NaN   \n",
       "3                                 NaN                          NaN   \n",
       "4                                 NaN                          NaN   \n",
       "...                               ...                          ...   \n",
       "334257                            NaN                          NaN   \n",
       "334258                            NaN                          NaN   \n",
       "334259                            NaN                          NaN   \n",
       "334260                            NaN                          NaN   \n",
       "334261                            NaN                          NaN   \n",
       "\n",
       "        debt_settlement_flag debt_settlement_flag_date settlement_status  \\\n",
       "0                          N                       NaN               NaN   \n",
       "1                          N                       NaN               NaN   \n",
       "2                          N                       NaN               NaN   \n",
       "3                          N                       NaN               NaN   \n",
       "4                          N                       NaN               NaN   \n",
       "...                      ...                       ...               ...   \n",
       "334257                     N                       NaN               NaN   \n",
       "334258                     N                       NaN               NaN   \n",
       "334259                     N                       NaN               NaN   \n",
       "334260                     Y                    Apr-19          COMPLETE   \n",
       "334261                     N                       NaN               NaN   \n",
       "\n",
       "       settlement_date settlement_amount settlement_percentage settlement_term  \n",
       "0                  NaN               NaN                   NaN             NaN  \n",
       "1                  NaN               NaN                   NaN             NaN  \n",
       "2                  NaN               NaN                   NaN             NaN  \n",
       "3                  NaN               NaN                   NaN             NaN  \n",
       "4                  NaN               NaN                   NaN             NaN  \n",
       "...                ...               ...                   ...             ...  \n",
       "334257             NaN               NaN                   NaN             NaN  \n",
       "334258             NaN               NaN                   NaN             NaN  \n",
       "334259             NaN               NaN                   NaN             NaN  \n",
       "334260          Mar-19           10000.0                 44.82             1.0  \n",
       "334261             NaN               NaN                   NaN             NaN  \n",
       "\n",
       "[334262 rows x 150 columns]>"
      ]
     },
     "execution_count": 9,
     "metadata": {},
     "output_type": "execute_result"
    }
   ],
   "source": [
    "full_df.describe"
   ]
  },
  {
   "cell_type": "markdown",
   "metadata": {},
   "source": [
    "# Limit the Feature Space"
   ]
  },
  {
   "cell_type": "code",
   "execution_count": 10,
   "metadata": {
    "scrolled": true
   },
   "outputs": [
    {
     "data": {
      "text/html": [
       "<div>\n",
       "<style scoped>\n",
       "    .dataframe tbody tr th:only-of-type {\n",
       "        vertical-align: middle;\n",
       "    }\n",
       "\n",
       "    .dataframe tbody tr th {\n",
       "        vertical-align: top;\n",
       "    }\n",
       "\n",
       "    .dataframe thead th {\n",
       "        text-align: right;\n",
       "    }\n",
       "</style>\n",
       "<table border=\"1\" class=\"dataframe\">\n",
       "  <thead>\n",
       "    <tr style=\"text-align: right;\">\n",
       "      <th></th>\n",
       "      <th>Percent</th>\n",
       "      <th>Count</th>\n",
       "    </tr>\n",
       "  </thead>\n",
       "  <tbody>\n",
       "    <tr>\n",
       "      <th>member_id</th>\n",
       "      <td>100.000000</td>\n",
       "      <td>334262</td>\n",
       "    </tr>\n",
       "    <tr>\n",
       "      <th>emp_title</th>\n",
       "      <td>6.405454</td>\n",
       "      <td>21411</td>\n",
       "    </tr>\n",
       "    <tr>\n",
       "      <th>emp_length</th>\n",
       "      <td>4.749568</td>\n",
       "      <td>15876</td>\n",
       "    </tr>\n",
       "    <tr>\n",
       "      <th>annual_inc</th>\n",
       "      <td>0.001197</td>\n",
       "      <td>4</td>\n",
       "    </tr>\n",
       "    <tr>\n",
       "      <th>desc</th>\n",
       "      <td>66.875984</td>\n",
       "      <td>223541</td>\n",
       "    </tr>\n",
       "    <tr>\n",
       "      <th>...</th>\n",
       "      <td>...</td>\n",
       "      <td>...</td>\n",
       "    </tr>\n",
       "    <tr>\n",
       "      <th>settlement_status</th>\n",
       "      <td>98.510151</td>\n",
       "      <td>329282</td>\n",
       "    </tr>\n",
       "    <tr>\n",
       "      <th>settlement_date</th>\n",
       "      <td>98.510151</td>\n",
       "      <td>329282</td>\n",
       "    </tr>\n",
       "    <tr>\n",
       "      <th>settlement_amount</th>\n",
       "      <td>98.510151</td>\n",
       "      <td>329282</td>\n",
       "    </tr>\n",
       "    <tr>\n",
       "      <th>settlement_percentage</th>\n",
       "      <td>98.510151</td>\n",
       "      <td>329282</td>\n",
       "    </tr>\n",
       "    <tr>\n",
       "      <th>settlement_term</th>\n",
       "      <td>98.510151</td>\n",
       "      <td>329282</td>\n",
       "    </tr>\n",
       "  </tbody>\n",
       "</table>\n",
       "<p>112 rows × 2 columns</p>\n",
       "</div>"
      ],
      "text/plain": [
       "                          Percent   Count\n",
       "member_id              100.000000  334262\n",
       "emp_title                6.405454   21411\n",
       "emp_length               4.749568   15876\n",
       "annual_inc               0.001197       4\n",
       "desc                    66.875984  223541\n",
       "...                           ...     ...\n",
       "settlement_status       98.510151  329282\n",
       "settlement_date         98.510151  329282\n",
       "settlement_amount       98.510151  329282\n",
       "settlement_percentage   98.510151  329282\n",
       "settlement_term         98.510151  329282\n",
       "\n",
       "[112 rows x 2 columns]"
      ]
     },
     "execution_count": 10,
     "metadata": {},
     "output_type": "execute_result"
    }
   ],
   "source": [
    "# Find the count and percentage of missing values\n",
    "df_na = pd.DataFrame({'Percent': 100*full_df.isnull().sum()/len(full_df), 'Count': full_df.isnull().sum()})\n",
    "\n",
    "# Print columns with null count > 0\n",
    "df_na[df_na['Count'] > 0]"
   ]
  },
  {
   "cell_type": "markdown",
   "metadata": {},
   "source": [
    "In the above dataframe, this displays each column name with a representative value that outlines the percentage of missing values within that specific column. 100% means this column contains no values. 0% means the column is not missing any values. We will remove those columns where more than 2% of the rows for that column contain a null value."
   ]
  },
  {
   "cell_type": "code",
   "execution_count": 11,
   "metadata": {},
   "outputs": [],
   "source": [
    "cleaned_data = full_df[[label for label in full_df if full_df[label].isnull().sum() <= 0.02 * full_df.shape[0]]]"
   ]
  },
  {
   "cell_type": "code",
   "execution_count": 12,
   "metadata": {},
   "outputs": [
    {
     "data": {
      "text/plain": [
       "(334262, 56)"
      ]
     },
     "execution_count": 12,
     "metadata": {},
     "output_type": "execute_result"
    }
   ],
   "source": [
    "cleaned_data.shape"
   ]
  },
  {
   "cell_type": "code",
   "execution_count": 13,
   "metadata": {
    "scrolled": true
   },
   "outputs": [
    {
     "data": {
      "text/plain": [
       "id                               0\n",
       "loan_amnt                        0\n",
       "funded_amnt                      0\n",
       "funded_amnt_inv                  0\n",
       "term                             0\n",
       "int_rate                         0\n",
       "installment                      0\n",
       "grade                            0\n",
       "sub_grade                        0\n",
       "home_ownership                   0\n",
       "annual_inc                       4\n",
       "verification_status              0\n",
       "issue_d                          0\n",
       "loan_status                      0\n",
       "pymnt_plan                       0\n",
       "url                              0\n",
       "purpose                          0\n",
       "title                           24\n",
       "zip_code                         0\n",
       "addr_state                       0\n",
       "dti                             28\n",
       "delinq_2yrs                     29\n",
       "earliest_cr_line                29\n",
       "fico_range_low                   0\n",
       "fico_range_high                  0\n",
       "inq_last_6mths                  29\n",
       "open_acc                        29\n",
       "pub_rec                         29\n",
       "revol_bal                        0\n",
       "revol_util                     298\n",
       "total_acc                       29\n",
       "initial_list_status              0\n",
       "out_prncp                        0\n",
       "out_prncp_inv                    0\n",
       "total_pymnt                      0\n",
       "total_pymnt_inv                  0\n",
       "total_rec_prncp                  0\n",
       "total_rec_int                    0\n",
       "total_rec_late_fee               0\n",
       "recoveries                       0\n",
       "collection_recovery_fee          0\n",
       "last_pymnt_d                   350\n",
       "last_pymnt_amnt                  0\n",
       "last_credit_pull_d              18\n",
       "last_fico_range_high             0\n",
       "last_fico_range_low              0\n",
       "collections_12_mths_ex_med     145\n",
       "policy_code                      0\n",
       "application_type                 0\n",
       "acc_now_delinq                  29\n",
       "chargeoff_within_12_mths       145\n",
       "delinq_amnt                     29\n",
       "pub_rec_bankruptcies          1365\n",
       "tax_liens                      105\n",
       "hardship_flag                    0\n",
       "debt_settlement_flag             0\n",
       "dtype: int64"
      ]
     },
     "execution_count": 13,
     "metadata": {},
     "output_type": "execute_result"
    }
   ],
   "source": [
    "cleaned_data.isnull().sum()"
   ]
  },
  {
   "cell_type": "markdown",
   "metadata": {},
   "source": [
    "removing additional variables"
   ]
  },
  {
   "cell_type": "code",
   "execution_count": 14,
   "metadata": {},
   "outputs": [],
   "source": [
    "del_col_names = [\"id\", \"funded_amnt\", \"funded_amnt_inv\", \"sub_grade\", \"int_rate\", \"url\", \"policy_code\", \"pymnt_plan\", \"title\", \"zip_code\", \"addr_state\", \"delinq_2yrs\", \"earliest_cr_line\", \"out_prncp\", \"application_type\", \"chargeoff_within_12_mths\", \"total_rec_int\", \"total_rec_late_fee\", \"out_prncp_inv\", \"delinq_amnt\", \"hardship_flag\", \"acc_now_delinq\", \"debt_settlement_flag\", \"last_credit_pull_d\", \"last_pymnt_d\", \"tax_liens\", \"collections_12_mths_ex_med\", \"last_fico_range_high\", \"last_fico_range_low\", \"last_pymnt_amnt\", \"collection_recovery_fee\", \"recoveries\"]"
   ]
  },
  {
   "cell_type": "code",
   "execution_count": 15,
   "metadata": {},
   "outputs": [],
   "source": [
    "dataset =cleaned_data.drop(labels = del_col_names, axis = 1)"
   ]
  },
  {
   "cell_type": "code",
   "execution_count": 16,
   "metadata": {},
   "outputs": [
    {
     "data": {
      "text/html": [
       "<div>\n",
       "<style scoped>\n",
       "    .dataframe tbody tr th:only-of-type {\n",
       "        vertical-align: middle;\n",
       "    }\n",
       "\n",
       "    .dataframe tbody tr th {\n",
       "        vertical-align: top;\n",
       "    }\n",
       "\n",
       "    .dataframe thead th {\n",
       "        text-align: right;\n",
       "    }\n",
       "</style>\n",
       "<table border=\"1\" class=\"dataframe\">\n",
       "  <thead>\n",
       "    <tr style=\"text-align: right;\">\n",
       "      <th></th>\n",
       "      <th>loan_amnt</th>\n",
       "      <th>term</th>\n",
       "      <th>installment</th>\n",
       "      <th>grade</th>\n",
       "      <th>home_ownership</th>\n",
       "      <th>annual_inc</th>\n",
       "      <th>verification_status</th>\n",
       "      <th>issue_d</th>\n",
       "      <th>loan_status</th>\n",
       "      <th>purpose</th>\n",
       "      <th>...</th>\n",
       "      <th>open_acc</th>\n",
       "      <th>pub_rec</th>\n",
       "      <th>revol_bal</th>\n",
       "      <th>revol_util</th>\n",
       "      <th>total_acc</th>\n",
       "      <th>initial_list_status</th>\n",
       "      <th>total_pymnt</th>\n",
       "      <th>total_pymnt_inv</th>\n",
       "      <th>total_rec_prncp</th>\n",
       "      <th>pub_rec_bankruptcies</th>\n",
       "    </tr>\n",
       "  </thead>\n",
       "  <tbody>\n",
       "    <tr>\n",
       "      <th>0</th>\n",
       "      <td>5000</td>\n",
       "      <td>36 months</td>\n",
       "      <td>162.87</td>\n",
       "      <td>B</td>\n",
       "      <td>RENT</td>\n",
       "      <td>24000.0</td>\n",
       "      <td>Verified</td>\n",
       "      <td>Dec-11</td>\n",
       "      <td>Fully Paid</td>\n",
       "      <td>credit_card</td>\n",
       "      <td>...</td>\n",
       "      <td>3.0</td>\n",
       "      <td>0.0</td>\n",
       "      <td>13648</td>\n",
       "      <td>83.70%</td>\n",
       "      <td>9.0</td>\n",
       "      <td>f</td>\n",
       "      <td>5863.155187</td>\n",
       "      <td>5833.84</td>\n",
       "      <td>5000.00</td>\n",
       "      <td>0.0</td>\n",
       "    </tr>\n",
       "    <tr>\n",
       "      <th>1</th>\n",
       "      <td>2500</td>\n",
       "      <td>60 months</td>\n",
       "      <td>59.83</td>\n",
       "      <td>C</td>\n",
       "      <td>RENT</td>\n",
       "      <td>30000.0</td>\n",
       "      <td>Source Verified</td>\n",
       "      <td>Dec-11</td>\n",
       "      <td>Charged Off</td>\n",
       "      <td>car</td>\n",
       "      <td>...</td>\n",
       "      <td>3.0</td>\n",
       "      <td>0.0</td>\n",
       "      <td>1687</td>\n",
       "      <td>9.40%</td>\n",
       "      <td>4.0</td>\n",
       "      <td>f</td>\n",
       "      <td>1014.530000</td>\n",
       "      <td>1014.53</td>\n",
       "      <td>456.46</td>\n",
       "      <td>0.0</td>\n",
       "    </tr>\n",
       "    <tr>\n",
       "      <th>2</th>\n",
       "      <td>2400</td>\n",
       "      <td>36 months</td>\n",
       "      <td>84.33</td>\n",
       "      <td>C</td>\n",
       "      <td>RENT</td>\n",
       "      <td>12252.0</td>\n",
       "      <td>Not Verified</td>\n",
       "      <td>Dec-11</td>\n",
       "      <td>Fully Paid</td>\n",
       "      <td>small_business</td>\n",
       "      <td>...</td>\n",
       "      <td>2.0</td>\n",
       "      <td>0.0</td>\n",
       "      <td>2956</td>\n",
       "      <td>98.50%</td>\n",
       "      <td>10.0</td>\n",
       "      <td>f</td>\n",
       "      <td>3005.666844</td>\n",
       "      <td>3005.67</td>\n",
       "      <td>2400.00</td>\n",
       "      <td>0.0</td>\n",
       "    </tr>\n",
       "    <tr>\n",
       "      <th>3</th>\n",
       "      <td>10000</td>\n",
       "      <td>36 months</td>\n",
       "      <td>339.31</td>\n",
       "      <td>C</td>\n",
       "      <td>RENT</td>\n",
       "      <td>49200.0</td>\n",
       "      <td>Source Verified</td>\n",
       "      <td>Dec-11</td>\n",
       "      <td>Fully Paid</td>\n",
       "      <td>other</td>\n",
       "      <td>...</td>\n",
       "      <td>10.0</td>\n",
       "      <td>0.0</td>\n",
       "      <td>5598</td>\n",
       "      <td>21%</td>\n",
       "      <td>37.0</td>\n",
       "      <td>f</td>\n",
       "      <td>12231.890000</td>\n",
       "      <td>12231.89</td>\n",
       "      <td>10000.00</td>\n",
       "      <td>0.0</td>\n",
       "    </tr>\n",
       "    <tr>\n",
       "      <th>4</th>\n",
       "      <td>3000</td>\n",
       "      <td>60 months</td>\n",
       "      <td>67.79</td>\n",
       "      <td>B</td>\n",
       "      <td>RENT</td>\n",
       "      <td>80000.0</td>\n",
       "      <td>Source Verified</td>\n",
       "      <td>Dec-11</td>\n",
       "      <td>Fully Paid</td>\n",
       "      <td>other</td>\n",
       "      <td>...</td>\n",
       "      <td>15.0</td>\n",
       "      <td>0.0</td>\n",
       "      <td>27783</td>\n",
       "      <td>53.90%</td>\n",
       "      <td>38.0</td>\n",
       "      <td>f</td>\n",
       "      <td>4066.908161</td>\n",
       "      <td>4066.91</td>\n",
       "      <td>3000.00</td>\n",
       "      <td>0.0</td>\n",
       "    </tr>\n",
       "  </tbody>\n",
       "</table>\n",
       "<p>5 rows × 24 columns</p>\n",
       "</div>"
      ],
      "text/plain": [
       "   loan_amnt        term  installment grade home_ownership  annual_inc  \\\n",
       "0       5000   36 months       162.87     B           RENT     24000.0   \n",
       "1       2500   60 months        59.83     C           RENT     30000.0   \n",
       "2       2400   36 months        84.33     C           RENT     12252.0   \n",
       "3      10000   36 months       339.31     C           RENT     49200.0   \n",
       "4       3000   60 months        67.79     B           RENT     80000.0   \n",
       "\n",
       "  verification_status issue_d  loan_status         purpose  ...  open_acc  \\\n",
       "0            Verified  Dec-11   Fully Paid     credit_card  ...       3.0   \n",
       "1     Source Verified  Dec-11  Charged Off             car  ...       3.0   \n",
       "2        Not Verified  Dec-11   Fully Paid  small_business  ...       2.0   \n",
       "3     Source Verified  Dec-11   Fully Paid           other  ...      10.0   \n",
       "4     Source Verified  Dec-11   Fully Paid           other  ...      15.0   \n",
       "\n",
       "   pub_rec  revol_bal  revol_util  total_acc  initial_list_status  \\\n",
       "0      0.0      13648      83.70%        9.0                    f   \n",
       "1      0.0       1687       9.40%        4.0                    f   \n",
       "2      0.0       2956      98.50%       10.0                    f   \n",
       "3      0.0       5598         21%       37.0                    f   \n",
       "4      0.0      27783      53.90%       38.0                    f   \n",
       "\n",
       "    total_pymnt total_pymnt_inv  total_rec_prncp pub_rec_bankruptcies  \n",
       "0   5863.155187         5833.84          5000.00                  0.0  \n",
       "1   1014.530000         1014.53           456.46                  0.0  \n",
       "2   3005.666844         3005.67          2400.00                  0.0  \n",
       "3  12231.890000        12231.89         10000.00                  0.0  \n",
       "4   4066.908161         4066.91          3000.00                  0.0  \n",
       "\n",
       "[5 rows x 24 columns]"
      ]
     },
     "execution_count": 16,
     "metadata": {},
     "output_type": "execute_result"
    }
   ],
   "source": [
    "dataset.head()"
   ]
  },
  {
   "cell_type": "code",
   "execution_count": 17,
   "metadata": {},
   "outputs": [
    {
     "data": {
      "text/plain": [
       "(334262, 24)"
      ]
     },
     "execution_count": 17,
     "metadata": {},
     "output_type": "execute_result"
    }
   ],
   "source": [
    "dataset.shape"
   ]
  },
  {
   "cell_type": "markdown",
   "metadata": {},
   "source": [
    "In order to avoid multicolinearity. We will deleting columns which are highly correlated to one and another."
   ]
  },
  {
   "cell_type": "code",
   "execution_count": 18,
   "metadata": {},
   "outputs": [
    {
     "data": {
      "text/plain": [
       "<matplotlib.axes._subplots.AxesSubplot at 0x11d07f0d0>"
      ]
     },
     "execution_count": 18,
     "metadata": {},
     "output_type": "execute_result"
    },
    {
     "data": {
      "image/png": "[encoded data removed]",
      "text/plain": [
       "<Figure size 1008x1008 with 2 Axes>"
      ]
     },
     "metadata": {
      "needs_background": "light"
     },
     "output_type": "display_data"
    }
   ],
   "source": [
    "# Set correlation variable\n",
    "corr = dataset.corr()\n",
    "\n",
    "# Plot the heatmap\n",
    "plt.figure(figsize=(14,14))\n",
    "sns.heatmap(corr, \n",
    "        xticklabels=corr.columns,\n",
    "        yticklabels=corr.columns,\n",
    "        cmap='coolwarm')"
   ]
  },
  {
   "cell_type": "markdown",
   "metadata": {},
   "source": [
    "Creating variables based on the data data types:"
   ]
  },
  {
   "cell_type": "code",
   "execution_count": 19,
   "metadata": {},
   "outputs": [],
   "source": [
    "numb_cols = dataset.select_dtypes(include=(\"int64\",\"float64\"))\n",
    "\n",
    "cat_cols = dataset.select_dtypes(include=(\"object\"))"
   ]
  },
  {
   "cell_type": "code",
   "execution_count": 20,
   "metadata": {
    "scrolled": true
   },
   "outputs": [
    {
     "name": "stdout",
     "output_type": "stream",
     "text": [
      "loan_amnt      1.000000\n",
      "installment    0.953529\n",
      "total_pymnt    0.879654\n",
      "Name: loan_amnt, dtype: float64 \n",
      "\n",
      "installment    1.000000\n",
      "loan_amnt      0.953529\n",
      "total_pymnt    0.844570\n",
      "Name: installment, dtype: float64 \n",
      "\n",
      "annual_inc     1.000000\n",
      "loan_amnt      0.334079\n",
      "installment    0.322331\n",
      "Name: annual_inc, dtype: float64 \n",
      "\n",
      "dti          1.000000\n",
      "open_acc     0.269998\n",
      "total_acc    0.206230\n",
      "Name: dti, dtype: float64 \n",
      "\n",
      "fico_range_low     1.000000\n",
      "fico_range_high    1.000000\n",
      "total_rec_prncp    0.120271\n",
      "Name: fico_range_low, dtype: float64 \n",
      "\n",
      "fico_range_high    1.00000\n",
      "fico_range_low     1.00000\n",
      "total_rec_prncp    0.12027\n",
      "Name: fico_range_high, dtype: float64 \n",
      "\n",
      "inq_last_6mths    1.000000\n",
      "total_acc         0.135980\n",
      "open_acc          0.104613\n",
      "Name: inq_last_6mths, dtype: float64 \n",
      "\n",
      "open_acc     1.000000\n",
      "total_acc    0.689576\n",
      "dti          0.269998\n",
      "Name: open_acc, dtype: float64 \n",
      "\n",
      "pub_rec                 1.000000\n",
      "pub_rec_bankruptcies    0.684487\n",
      "inq_last_6mths          0.008544\n",
      "Name: pub_rec, dtype: float64 \n",
      "\n",
      "revol_bal     1.000000\n",
      "annual_inc    0.321308\n",
      "loan_amnt     0.310171\n",
      "Name: revol_bal, dtype: float64 \n",
      "\n",
      "total_acc    1.000000\n",
      "open_acc     0.689576\n",
      "loan_amnt    0.233615\n",
      "Name: total_acc, dtype: float64 \n",
      "\n",
      "total_pymnt        1.000000\n",
      "total_pymnt_inv    0.996324\n",
      "total_rec_prncp    0.958561\n",
      "Name: total_pymnt, dtype: float64 \n",
      "\n",
      "total_pymnt_inv    1.000000\n",
      "total_pymnt        0.996324\n",
      "total_rec_prncp    0.954576\n",
      "Name: total_pymnt_inv, dtype: float64 \n",
      "\n",
      "total_rec_prncp    1.000000\n",
      "total_pymnt        0.958561\n",
      "total_pymnt_inv    0.954576\n",
      "Name: total_rec_prncp, dtype: float64 \n",
      "\n",
      "pub_rec_bankruptcies    1.000000\n",
      "pub_rec                 0.684487\n",
      "inq_last_6mths          0.016674\n",
      "Name: pub_rec_bankruptcies, dtype: float64 \n",
      "\n"
     ]
    }
   ],
   "source": [
    "def ind_corr(cols):\n",
    "    for col in cols:\n",
    "        print(dataset.corr()[col].sort_values(ascending =False).head(3), \"\\n\")\n",
    "ind_corr(numb_cols.columns)"
   ]
  },
  {
   "cell_type": "markdown",
   "metadata": {},
   "source": [
    "Looks like a lot of features are highly correlated with each and other. Therefore let's get in more depth and remove all the features who are hihly correlated one and other in order to **multicolinearity and overfitting our model with redundant features."
   ]
  },
  {
   "cell_type": "code",
   "execution_count": 21,
   "metadata": {},
   "outputs": [],
   "source": [
    "dataset.drop([\"installment\", \"fico_range_low\", \"total_pymnt_inv\", \"total_rec_prncp\"], axis=1, inplace=True)"
   ]
  },
  {
   "cell_type": "code",
   "execution_count": 22,
   "metadata": {},
   "outputs": [
    {
     "data": {
      "text/html": [
       "<div>\n",
       "<style scoped>\n",
       "    .dataframe tbody tr th:only-of-type {\n",
       "        vertical-align: middle;\n",
       "    }\n",
       "\n",
       "    .dataframe tbody tr th {\n",
       "        vertical-align: top;\n",
       "    }\n",
       "\n",
       "    .dataframe thead th {\n",
       "        text-align: right;\n",
       "    }\n",
       "</style>\n",
       "<table border=\"1\" class=\"dataframe\">\n",
       "  <thead>\n",
       "    <tr style=\"text-align: right;\">\n",
       "      <th></th>\n",
       "      <th>loan_amnt</th>\n",
       "      <th>term</th>\n",
       "      <th>grade</th>\n",
       "      <th>home_ownership</th>\n",
       "      <th>annual_inc</th>\n",
       "      <th>verification_status</th>\n",
       "      <th>issue_d</th>\n",
       "      <th>loan_status</th>\n",
       "      <th>purpose</th>\n",
       "      <th>dti</th>\n",
       "      <th>fico_range_high</th>\n",
       "      <th>inq_last_6mths</th>\n",
       "      <th>open_acc</th>\n",
       "      <th>pub_rec</th>\n",
       "      <th>revol_bal</th>\n",
       "      <th>revol_util</th>\n",
       "      <th>total_acc</th>\n",
       "      <th>initial_list_status</th>\n",
       "      <th>total_pymnt</th>\n",
       "      <th>pub_rec_bankruptcies</th>\n",
       "    </tr>\n",
       "  </thead>\n",
       "  <tbody>\n",
       "    <tr>\n",
       "      <th>0</th>\n",
       "      <td>5000</td>\n",
       "      <td>36 months</td>\n",
       "      <td>B</td>\n",
       "      <td>RENT</td>\n",
       "      <td>24000.0</td>\n",
       "      <td>Verified</td>\n",
       "      <td>Dec-11</td>\n",
       "      <td>Fully Paid</td>\n",
       "      <td>credit_card</td>\n",
       "      <td>0.002765</td>\n",
       "      <td>739</td>\n",
       "      <td>1.0</td>\n",
       "      <td>3.0</td>\n",
       "      <td>0.0</td>\n",
       "      <td>13648</td>\n",
       "      <td>83.70%</td>\n",
       "      <td>9.0</td>\n",
       "      <td>f</td>\n",
       "      <td>5863.155187</td>\n",
       "      <td>0.0</td>\n",
       "    </tr>\n",
       "    <tr>\n",
       "      <th>1</th>\n",
       "      <td>2500</td>\n",
       "      <td>60 months</td>\n",
       "      <td>C</td>\n",
       "      <td>RENT</td>\n",
       "      <td>30000.0</td>\n",
       "      <td>Source Verified</td>\n",
       "      <td>Dec-11</td>\n",
       "      <td>Charged Off</td>\n",
       "      <td>car</td>\n",
       "      <td>0.000100</td>\n",
       "      <td>744</td>\n",
       "      <td>5.0</td>\n",
       "      <td>3.0</td>\n",
       "      <td>0.0</td>\n",
       "      <td>1687</td>\n",
       "      <td>9.40%</td>\n",
       "      <td>4.0</td>\n",
       "      <td>f</td>\n",
       "      <td>1014.530000</td>\n",
       "      <td>0.0</td>\n",
       "    </tr>\n",
       "    <tr>\n",
       "      <th>2</th>\n",
       "      <td>2400</td>\n",
       "      <td>36 months</td>\n",
       "      <td>C</td>\n",
       "      <td>RENT</td>\n",
       "      <td>12252.0</td>\n",
       "      <td>Not Verified</td>\n",
       "      <td>Dec-11</td>\n",
       "      <td>Fully Paid</td>\n",
       "      <td>small_business</td>\n",
       "      <td>0.000872</td>\n",
       "      <td>739</td>\n",
       "      <td>2.0</td>\n",
       "      <td>2.0</td>\n",
       "      <td>0.0</td>\n",
       "      <td>2956</td>\n",
       "      <td>98.50%</td>\n",
       "      <td>10.0</td>\n",
       "      <td>f</td>\n",
       "      <td>3005.666844</td>\n",
       "      <td>0.0</td>\n",
       "    </tr>\n",
       "    <tr>\n",
       "      <th>3</th>\n",
       "      <td>10000</td>\n",
       "      <td>36 months</td>\n",
       "      <td>C</td>\n",
       "      <td>RENT</td>\n",
       "      <td>49200.0</td>\n",
       "      <td>Source Verified</td>\n",
       "      <td>Dec-11</td>\n",
       "      <td>Fully Paid</td>\n",
       "      <td>other</td>\n",
       "      <td>0.002000</td>\n",
       "      <td>694</td>\n",
       "      <td>1.0</td>\n",
       "      <td>10.0</td>\n",
       "      <td>0.0</td>\n",
       "      <td>5598</td>\n",
       "      <td>21%</td>\n",
       "      <td>37.0</td>\n",
       "      <td>f</td>\n",
       "      <td>12231.890000</td>\n",
       "      <td>0.0</td>\n",
       "    </tr>\n",
       "    <tr>\n",
       "      <th>4</th>\n",
       "      <td>3000</td>\n",
       "      <td>60 months</td>\n",
       "      <td>B</td>\n",
       "      <td>RENT</td>\n",
       "      <td>80000.0</td>\n",
       "      <td>Source Verified</td>\n",
       "      <td>Dec-11</td>\n",
       "      <td>Fully Paid</td>\n",
       "      <td>other</td>\n",
       "      <td>0.001794</td>\n",
       "      <td>699</td>\n",
       "      <td>0.0</td>\n",
       "      <td>15.0</td>\n",
       "      <td>0.0</td>\n",
       "      <td>27783</td>\n",
       "      <td>53.90%</td>\n",
       "      <td>38.0</td>\n",
       "      <td>f</td>\n",
       "      <td>4066.908161</td>\n",
       "      <td>0.0</td>\n",
       "    </tr>\n",
       "  </tbody>\n",
       "</table>\n",
       "</div>"
      ],
      "text/plain": [
       "   loan_amnt        term grade home_ownership  annual_inc verification_status  \\\n",
       "0       5000   36 months     B           RENT     24000.0            Verified   \n",
       "1       2500   60 months     C           RENT     30000.0     Source Verified   \n",
       "2       2400   36 months     C           RENT     12252.0        Not Verified   \n",
       "3      10000   36 months     C           RENT     49200.0     Source Verified   \n",
       "4       3000   60 months     B           RENT     80000.0     Source Verified   \n",
       "\n",
       "  issue_d  loan_status         purpose       dti  fico_range_high  \\\n",
       "0  Dec-11   Fully Paid     credit_card  0.002765              739   \n",
       "1  Dec-11  Charged Off             car  0.000100              744   \n",
       "2  Dec-11   Fully Paid  small_business  0.000872              739   \n",
       "3  Dec-11   Fully Paid           other  0.002000              694   \n",
       "4  Dec-11   Fully Paid           other  0.001794              699   \n",
       "\n",
       "   inq_last_6mths  open_acc  pub_rec  revol_bal revol_util  total_acc  \\\n",
       "0             1.0       3.0      0.0      13648     83.70%        9.0   \n",
       "1             5.0       3.0      0.0       1687      9.40%        4.0   \n",
       "2             2.0       2.0      0.0       2956     98.50%       10.0   \n",
       "3             1.0      10.0      0.0       5598        21%       37.0   \n",
       "4             0.0      15.0      0.0      27783     53.90%       38.0   \n",
       "\n",
       "  initial_list_status   total_pymnt  pub_rec_bankruptcies  \n",
       "0                   f   5863.155187                   0.0  \n",
       "1                   f   1014.530000                   0.0  \n",
       "2                   f   3005.666844                   0.0  \n",
       "3                   f  12231.890000                   0.0  \n",
       "4                   f   4066.908161                   0.0  "
      ]
     },
     "execution_count": 22,
     "metadata": {},
     "output_type": "execute_result"
    }
   ],
   "source": [
    "dataset.head()"
   ]
  },
  {
   "cell_type": "code",
   "execution_count": 23,
   "metadata": {
    "scrolled": true
   },
   "outputs": [
    {
     "data": {
      "text/plain": [
       "(334262, 20)"
      ]
     },
     "execution_count": 23,
     "metadata": {},
     "output_type": "execute_result"
    }
   ],
   "source": [
    "dataset.shape"
   ]
  },
  {
   "cell_type": "code",
   "execution_count": 24,
   "metadata": {},
   "outputs": [
    {
     "data": {
      "text/plain": [
       "<bound method DataFrame.set_index of         loan_amnt        term grade home_ownership  annual_inc  \\\n",
       "0            5000   36 months     B           RENT     24000.0   \n",
       "1            2500   60 months     C           RENT     30000.0   \n",
       "2            2400   36 months     C           RENT     12252.0   \n",
       "3           10000   36 months     C           RENT     49200.0   \n",
       "4            3000   60 months     B           RENT     80000.0   \n",
       "...           ...         ...   ...            ...         ...   \n",
       "334257      24000   60 months     C       MORTGAGE     95000.0   \n",
       "334258      24000   60 months     B       MORTGAGE    108000.0   \n",
       "334259      40000   60 months     B       MORTGAGE    227000.0   \n",
       "334260      24000   60 months     C           RENT    110000.0   \n",
       "334261      14000   60 months     C       MORTGAGE     95000.0   \n",
       "\n",
       "       verification_status issue_d  loan_status             purpose       dti  \\\n",
       "0                 Verified  Dec-11   Fully Paid         credit_card  0.002765   \n",
       "1          Source Verified  Dec-11  Charged Off                 car  0.000100   \n",
       "2             Not Verified  Dec-11   Fully Paid      small_business  0.000872   \n",
       "3          Source Verified  Dec-11   Fully Paid               other  0.002000   \n",
       "4          Source Verified  Dec-11   Fully Paid               other  0.001794   \n",
       "...                    ...     ...          ...                 ...       ...   \n",
       "334257     Source Verified  Oct-16   Fully Paid    home_improvement  0.001961   \n",
       "334258        Not Verified  Oct-16      Current  debt_consolidation  0.003494   \n",
       "334259            Verified  Oct-16   Fully Paid  debt_consolidation  0.001275   \n",
       "334260        Not Verified  Oct-16  Charged Off  debt_consolidation  0.001830   \n",
       "334261            Verified  Oct-16      Current  debt_consolidation  0.002336   \n",
       "\n",
       "        fico_range_high  inq_last_6mths  open_acc  pub_rec  revol_bal  \\\n",
       "0                   739             1.0       3.0      0.0      13648   \n",
       "1                   744             5.0       3.0      0.0       1687   \n",
       "2                   739             2.0       2.0      0.0       2956   \n",
       "3                   694             1.0      10.0      0.0       5598   \n",
       "4                   699             0.0      15.0      0.0      27783   \n",
       "...                 ...             ...       ...      ...        ...   \n",
       "334257              669             0.0       5.0      0.0      49431   \n",
       "334258              699             1.0      24.0      1.0      21665   \n",
       "334259              709             1.0       5.0      0.0       8633   \n",
       "334260              664             0.0      10.0      1.0      17641   \n",
       "334261              664             1.0       8.0      0.0       7662   \n",
       "\n",
       "       revol_util  total_acc initial_list_status   total_pymnt  \\\n",
       "0          83.70%        9.0                   f   5863.155187   \n",
       "1           9.40%        4.0                   f   1014.530000   \n",
       "2          98.50%       10.0                   f   3005.666844   \n",
       "3             21%       37.0                   f  12231.890000   \n",
       "4          53.90%       38.0                   f   4066.908161   \n",
       "...           ...        ...                 ...           ...   \n",
       "334257     84.40%       54.0                   f  30444.213690   \n",
       "334258        39%       58.0                   f  17071.490000   \n",
       "334259     64.90%       37.0                   f  48369.405940   \n",
       "334260     68.10%       31.0                   f  16190.840000   \n",
       "334261        54%       22.0                   w  10966.910000   \n",
       "\n",
       "        pub_rec_bankruptcies  \n",
       "0                        0.0  \n",
       "1                        0.0  \n",
       "2                        0.0  \n",
       "3                        0.0  \n",
       "4                        0.0  \n",
       "...                      ...  \n",
       "334257                   0.0  \n",
       "334258                   0.0  \n",
       "334259                   0.0  \n",
       "334260                   1.0  \n",
       "334261                   0.0  \n",
       "\n",
       "[334262 rows x 20 columns]>"
      ]
     },
     "execution_count": 24,
     "metadata": {},
     "output_type": "execute_result"
    }
   ],
   "source": [
    "dataset.set_index"
   ]
  },
  {
   "cell_type": "markdown",
   "metadata": {},
   "source": [
    "# Exploratory Analysis"
   ]
  },
  {
   "cell_type": "markdown",
   "metadata": {},
   "source": [
    "# 1. Loan amount"
   ]
  },
  {
   "cell_type": "code",
   "execution_count": 25,
   "metadata": {},
   "outputs": [
    {
     "data": {
      "text/plain": [
       "count    334262.000000\n",
       "mean      13875.948283\n",
       "std        8456.075067\n",
       "min         500.000000\n",
       "25%        7350.000000\n",
       "50%       12000.000000\n",
       "75%       19500.000000\n",
       "max       40000.000000\n",
       "Name: loan_amnt, dtype: float64"
      ]
     },
     "execution_count": 25,
     "metadata": {},
     "output_type": "execute_result"
    }
   ],
   "source": [
    "dataset.loan_amnt.describe()"
   ]
  },
  {
   "cell_type": "markdown",
   "metadata": {},
   "source": [
    "1.1 Loan amount frequency distribution"
   ]
  },
  {
   "cell_type": "code",
   "execution_count": 26,
   "metadata": {},
   "outputs": [
    {
     "data": {
      "image/png": "[encoded data removed]",
      "text/plain": [
       "<Figure size 432x288 with 1 Axes>"
      ]
     },
     "metadata": {
      "needs_background": "light"
     },
     "output_type": "display_data"
    },
    {
     "data": {
      "image/png": "[encoded data removed]",
      "text/plain": [
       "<Figure size 432x288 with 1 Axes>"
      ]
     },
     "metadata": {
      "needs_background": "light"
     },
     "output_type": "display_data"
    }
   ],
   "source": [
    "sns.distplot(dataset['loan_amnt'])\n",
    "plt.ylabel('Frequency')\n",
    "plt.xlabel('Loan Amount')\n",
    "plt.show()\n",
    "q = dataset.boxplot(column='loan_amnt')"
   ]
  },
  {
   "cell_type": "markdown",
   "metadata": {},
   "source": [
    "1.2 Number of Loans over term"
   ]
  },
  {
   "cell_type": "code",
   "execution_count": 27,
   "metadata": {
    "scrolled": true
   },
   "outputs": [
    {
     "data": {
      "text/plain": [
       "<matplotlib.axes._subplots.AxesSubplot at 0x12044dd50>"
      ]
     },
     "execution_count": 27,
     "metadata": {},
     "output_type": "execute_result"
    },
    {
     "data": {
      "image/png": "[encoded data removed]",
      "text/plain": [
       "<Figure size 432x288 with 1 Axes>"
      ]
     },
     "metadata": {
      "needs_background": "light"
     },
     "output_type": "display_data"
    }
   ],
   "source": [
    "defaulter = 0\n",
    "non_defaulter = 0\n",
    "for i in dataset.loan_status:\n",
    "    if(i in ['Default','Charged Off','Does not meet the credit policy. Status:Charged Off','Late (31-120 days)']):\n",
    "        defaulter+=1\n",
    "    else:\n",
    "        non_defaulter+=1\n",
    "\n",
    "loan_amnt_status = dataset.groupby('term')['loan_amnt'].sum()\n",
    "loan_amnt_status.plot(kind='bar')"
   ]
  },
  {
   "cell_type": "markdown",
   "metadata": {},
   "source": [
    "1.3 Distributin of Loan Amount over Purpose"
   ]
  },
  {
   "cell_type": "code",
   "execution_count": 28,
   "metadata": {
    "scrolled": true
   },
   "outputs": [
    {
     "data": {
      "text/plain": [
       "<matplotlib.axes._subplots.AxesSubplot at 0x120c111d0>"
      ]
     },
     "execution_count": 28,
     "metadata": {},
     "output_type": "execute_result"
    },
    {
     "data": {
      "image/png": "[encoded data removed]",
      "text/plain": [
       "<Figure size 432x288 with 1 Axes>"
      ]
     },
     "metadata": {
      "needs_background": "light"
     },
     "output_type": "display_data"
    }
   ],
   "source": [
    "loan_amnt_purpose = dataset.groupby('purpose')['loan_amnt'].sum()\n",
    "loan_amnt_purpose.plot(kind='bar')"
   ]
  },
  {
   "cell_type": "markdown",
   "metadata": {},
   "source": [
    "# 2. Term"
   ]
  },
  {
   "cell_type": "code",
   "execution_count": 29,
   "metadata": {},
   "outputs": [
    {
     "data": {
      "text/plain": [
       " 36 months    254366\n",
       " 60 months     79896\n",
       "Name: term, dtype: int64"
      ]
     },
     "execution_count": 29,
     "metadata": {},
     "output_type": "execute_result"
    }
   ],
   "source": [
    "dataset['term'].value_counts(dropna=False)"
   ]
  },
  {
   "cell_type": "code",
   "execution_count": 30,
   "metadata": {
    "scrolled": false
   },
   "outputs": [
    {
     "data": {
      "image/png": "[encoded data removed]",
      "text/plain": [
       "<Figure size 1080x720 with 1 Axes>"
      ]
     },
     "metadata": {
      "needs_background": "light"
     },
     "output_type": "display_data"
    }
   ],
   "source": [
    "# ratio of short-term and long-term loans for good loans and bad loans\n",
    "loan_status_dict = {\"Fully Paid\": 1, \"Current\": 1, \"Charged Off\": 0, \"Late (31-120 days)\": 0, \"Does not meet the credit policy. Status:Fully Paid\" : 1,\n",
    "                    \"In Grace Period\": 1, \"Late (16-30 days)\": 1, \"Default\": 0, \"Does not meet the credit policy. Status:Charged Off\":0}\n",
    "dataset[\"loan_status_count_10\"] = dataset[\"loan_status\"].map(loan_status_dict)\n",
    "dataset[\"loan_status_count_10\"] = dataset[\"loan_status_count_10\"].astype(\"float\")\n",
    "f_loan_status_term, ax_loan_status_term = plt.subplots(figsize=(15, 10))\n",
    "labels = \"Good loans\", \"Bad loans\"\n",
    "loan_status_dict = {1.0: \"Good loans\", 0.0: \"Bad loans\"}\n",
    "dataset[\"loan_status_count_10\"] = dataset[\"loan_status_count_10\"].map(loan_status_dict)\n",
    "loan_data_sorted=dataset.sort_values(by=[\"grade\"], inplace=False)\n",
    "sns.barplot(x=loan_data_sorted[\"term\"], y=loan_data_sorted[\"loan_amnt\"], hue=loan_data_sorted[\"loan_status_count_10\"], hue_order=labels,\n",
    "            ax=ax_loan_status_term, estimator=lambda x: len(x) / len(loan_data_sorted[\"loan_status_count_10\"]) * 100)\n",
    "ax_loan_status_term.set_title(\"loan times per term\", fontsize=16)\n",
    "ax_loan_status_term.set_xlabel(\"term\", fontsize=16)\n",
    "ax_loan_status_term.set_ylabel(\"loan times\", fontsize=16)\n",
    "plt.show()\n",
    "plt.close()\n",
    "dataset.drop([\"loan_status_count_10\"], axis=1, inplace=True)"
   ]
  },
  {
   "cell_type": "markdown",
   "metadata": {},
   "source": [
    "# 3. Grade"
   ]
  },
  {
   "cell_type": "code",
   "execution_count": 31,
   "metadata": {},
   "outputs": [
    {
     "name": "stdout",
     "output_type": "stream",
     "text": [
      "['A', 'B', 'C', 'D', 'E', 'F', 'G']\n"
     ]
    }
   ],
   "source": [
    "print(sorted(dataset['grade'].unique()))"
   ]
  },
  {
   "cell_type": "code",
   "execution_count": 32,
   "metadata": {},
   "outputs": [
    {
     "data": {
      "image/png": "[encoded data removed]",
      "text/plain": [
       "<Figure size 1080x720 with 1 Axes>"
      ]
     },
     "metadata": {
      "needs_background": "light"
     },
     "output_type": "display_data"
    }
   ],
   "source": [
    "loan_status_dict = {\"Fully Paid\": 1, \"Current\": 1, \"Charged Off\": 0, \"Late (31-120 days)\": 0, \"Does not meet the credit policy. Status:Fully Paid\" : 1,\n",
    "                    \"In Grace Period\": 1, \"Late (16-30 days)\": 1, \"Default\": 0, \"Does not meet the credit policy. Status:Charged Off\":0}\n",
    "dataset[\"loan_status_count_8\"] = dataset[\"loan_status\"].map(loan_status_dict)\n",
    "dataset[\"loan_status_count_8\"] = dataset[\"loan_status_count_8\"].astype(\"float\")\n",
    "f_inc_rate_grade, ax_inc_rate_grade = plt.subplots(figsize=(15, 10))\n",
    "labels = \"Good loans\", \"Bad loans\"\n",
    "loan_status_dict = {1.0: \"Good loans\", 0.0: \"Bad loans\"}\n",
    "dataset[\"loan_status_count_8\"] = dataset[\"loan_status_count_8\"].map(loan_status_dict)\n",
    "loan_data_sorted = dataset.sort_values(by=[\"grade\"], inplace=False)\n",
    "sns.barplot(x=loan_data_sorted[\"grade\"], y=loan_data_sorted[\"loan_amnt\"], hue=loan_data_sorted[\"loan_status_count_8\"],\n",
    "            hue_order=labels, ax=ax_inc_rate_grade, ci=None)\n",
    "ax_inc_rate_grade.set_title(\"mean loan amount per grade\", fontsize=16)\n",
    "ax_inc_rate_grade.set_xlabel(\"grade\", fontsize=16)\n",
    "ax_inc_rate_grade.set_ylabel(\"mean loan amount\", fontsize=16)\n",
    "plt.show()\n",
    "plt.close()\n",
    "dataset.drop([\"loan_status_count_8\"], axis=1, inplace=True)"
   ]
  },
  {
   "cell_type": "markdown",
   "metadata": {},
   "source": [
    "# 4. Home Ownership"
   ]
  },
  {
   "cell_type": "code",
   "execution_count": 33,
   "metadata": {},
   "outputs": [
    {
     "data": {
      "text/plain": [
       "MORTGAGE    166740\n",
       "RENT        136303\n",
       "OWN          30883\n",
       "OTHER          182\n",
       "ANY            104\n",
       "NONE            50\n",
       "Name: home_ownership, dtype: int64"
      ]
     },
     "execution_count": 33,
     "metadata": {},
     "output_type": "execute_result"
    }
   ],
   "source": [
    "dataset['home_ownership'].value_counts()"
   ]
  },
  {
   "cell_type": "code",
   "execution_count": 34,
   "metadata": {},
   "outputs": [
    {
     "data": {
      "image/png": "[encoded data removed]",
      "text/plain": [
       "<Figure size 1080x720 with 1 Axes>"
      ]
     },
     "metadata": {
      "needs_background": "light"
     },
     "output_type": "display_data"
    }
   ],
   "source": [
    "# ratio of housing for good loans customer and bad loans customer\n",
    "loan_status_dict = {\"Fully Paid\": 1, \"Current\": 1, \"Charged Off\": 0, \"Late (31-120 days)\": 0, \"Does not meet the credit policy. Status:Fully Paid\" : 1,\n",
    "                    \"In Grace Period\": 1, \"Late (16-30 days)\": 1, \"Default\": 0, \"Does not meet the credit policy. Status:Charged Off\":0}\n",
    "dataset[\"loan_status_count_5\"] = dataset[\"loan_status\"].map(loan_status_dict)\n",
    "dataset[\"loan_status_count_5\"] = dataset[\"loan_status_count_5\"].astype(\"float\")\n",
    "f_loan_status_home, ax_loan_status_home = plt.subplots(figsize=(15, 10))\n",
    "labels = \"Good loans\", \"Bad loans\"\n",
    "loan_status_dict = {1.0: \"Good loans\", 0.0: \"Bad loans\"}\n",
    "dataset[\"loan_status_count_5\"] = dataset[\"loan_status_count_5\"].map(loan_status_dict)\n",
    "sns.barplot(x=dataset[\"home_ownership\"], y=dataset[\"loan_amnt\"], hue=dataset[\"loan_status_count_5\"],\n",
    "            hue_order=labels,\n",
    "            ax=ax_loan_status_home, estimator=lambda x: len(x) / len(dataset[\"loan_status_count_5\"]) * 100)\n",
    "ax_loan_status_home.set_title(\"Loan status per home percent\", fontsize=16)\n",
    "ax_loan_status_home.set_xlabel(\"home ownership\", fontsize=16)\n",
    "ax_loan_status_home.set_ylabel(\"per home ownership loans percent\", fontsize=16)\n",
    "plt.show()\n",
    "plt.close()\n",
    "dataset.drop([\"loan_status_count_5\"], axis=1, inplace=True)"
   ]
  },
  {
   "cell_type": "markdown",
   "metadata": {},
   "source": [
    "# 5. Annual Income"
   ]
  },
  {
   "cell_type": "code",
   "execution_count": 35,
   "metadata": {
    "scrolled": true
   },
   "outputs": [
    {
     "data": {
      "text/plain": [
       "count    3.342580e+05\n",
       "mean     7.447377e+04\n",
       "std      6.245915e+04\n",
       "min      0.000000e+00\n",
       "10%      3.376790e+04\n",
       "25%      4.500000e+04\n",
       "50%      6.324000e+04\n",
       "75%      9.000000e+04\n",
       "90%      1.225132e+05\n",
       "max      7.141778e+06\n",
       "Name: annual_inc, dtype: float64"
      ]
     },
     "execution_count": 35,
     "metadata": {},
     "output_type": "execute_result"
    }
   ],
   "source": [
    "dataset.annual_inc.describe(percentiles=[0.1, 0.25, 0.5, 0.75, 0.9])"
   ]
  },
  {
   "cell_type": "code",
   "execution_count": 36,
   "metadata": {},
   "outputs": [
    {
     "data": {
      "text/plain": [
       "<matplotlib.axes._subplots.AxesSubplot at 0x120c03410>"
      ]
     },
     "execution_count": 36,
     "metadata": {},
     "output_type": "execute_result"
    },
    {
     "data": {
      "image/png": "[encoded data removed]",
      "text/plain": [
       "<Figure size 1080x216 with 1 Axes>"
      ]
     },
     "metadata": {
      "needs_background": "light"
     },
     "output_type": "display_data"
    }
   ],
   "source": [
    "plt.figure(figsize=(15, 3))\n",
    "sns.boxplot(x=dataset['annual_inc'], data=dataset)"
   ]
  },
  {
   "cell_type": "code",
   "execution_count": 37,
   "metadata": {
    "scrolled": true
   },
   "outputs": [
    {
     "data": {
      "image/png": "[encoded data removed]",
      "text/plain": [
       "<Figure size 1080x720 with 1 Axes>"
      ]
     },
     "metadata": {
      "needs_background": "light"
     },
     "output_type": "display_data"
    }
   ],
   "source": [
    "# ratio of good loans and bad loans for each income level\n",
    "# 我们将年收入分为三档:20000以下为low，20000-60000为mid，>60000为high\n",
    "loan_status_dict = {\"Fully Paid\": 1, \"Current\": 1, \"Charged Off\": 0, \"Late (31-120 days)\": 0, \"Does not meet the credit policy. Status:Fully Paid\" : 1,\n",
    "                    \"In Grace Period\": 1, \"Late (16-30 days)\": 1, \"Default\": 0, \"Does not meet the credit policy. Status:Charged Off\":0}\n",
    "dataset[\"loan_status_count_6\"] = dataset[\"loan_status\"].map(loan_status_dict)\n",
    "dataset[\"loan_status_count_6\"] = dataset[\"loan_status_count_6\"].astype(\"float\")\n",
    "max_value = dataset[\"annual_inc\"].max() + 1.0\n",
    "set_bins = [0.0, 20000.0, 60000.0, max_value]\n",
    "set_label = [\"low\", \"mid\", \"high\"]\n",
    "dataset[\"income\"] = pd.cut(dataset[\"annual_inc\"], bins=set_bins, labels=set_label)\n",
    "f_loan_status_income, ax_loan_status_income = plt.subplots(figsize=(15, 10))\n",
    "labels = \"Good loans\", \"Bad loans\"\n",
    "loan_status_dict = {1.0: \"Good loans\", 0.0: \"Bad loans\"}\n",
    "dataset[\"loan_status_count_6\"] = dataset[\"loan_status_count_6\"].map(loan_status_dict)\n",
    "sns.barplot(x=dataset[\"income\"], y=dataset[\"loan_amnt\"], hue=dataset[\"loan_status_count_6\"], hue_order=labels,\n",
    "            ax=ax_loan_status_income, estimator=lambda x: len(x) / len(dataset[\"loan_status_count_6\"]) * 100)\n",
    "ax_loan_status_income.set_title(\"Loan status per income percent\", fontsize=16)\n",
    "ax_loan_status_income.set_xlabel(\"income\", fontsize=16)\n",
    "ax_loan_status_income.set_ylabel(\"per income loans percent\", fontsize=16)\n",
    "plt.show()\n",
    "plt.close()\n",
    "dataset.drop([\"loan_status_count_6\",\"income\"], axis=1, inplace=True)"
   ]
  },
  {
   "cell_type": "markdown",
   "metadata": {},
   "source": [
    "# 6 verification_status"
   ]
  },
  {
   "cell_type": "code",
   "execution_count": 38,
   "metadata": {},
   "outputs": [
    {
     "data": {
      "text/plain": [
       "Verified           131804\n",
       "Not Verified       107818\n",
       "Source Verified     94640\n",
       "Name: verification_status, dtype: int64"
      ]
     },
     "execution_count": 38,
     "metadata": {},
     "output_type": "execute_result"
    }
   ],
   "source": [
    "dataset.verification_status.value_counts()"
   ]
  },
  {
   "cell_type": "code",
   "execution_count": 39,
   "metadata": {
    "scrolled": true
   },
   "outputs": [
    {
     "data": {
      "image/png": "[encoded data removed]",
      "text/plain": [
       "<Figure size 1080x720 with 1 Axes>"
      ]
     },
     "metadata": {
      "needs_background": "light"
     },
     "output_type": "display_data"
    }
   ],
   "source": [
    "# ratio of housing for good loans customer and bad loans customer\n",
    "loan_status_dict = {\"Fully Paid\": 1, \"Current\": 1, \"Charged Off\": 0, \"Late (31-120 days)\": 0, \"Does not meet the credit policy. Status:Fully Paid\" : 1,\n",
    "                    \"In Grace Period\": 1, \"Late (16-30 days)\": 1, \"Default\": 0, \"Does not meet the credit policy. Status:Charged Off\":0}\n",
    "dataset[\"loan_status_count_5\"] = dataset[\"loan_status\"].map(loan_status_dict)\n",
    "dataset[\"loan_status_count_5\"] = dataset[\"loan_status_count_5\"].astype(\"float\")\n",
    "f_loan_status_home, ax_loan_status_home = plt.subplots(figsize=(15, 10))\n",
    "labels = \"Good loans\", \"Bad loans\"\n",
    "loan_status_dict = {1.0: \"Good loans\", 0.0: \"Bad loans\"}\n",
    "dataset[\"loan_status_count_5\"] = dataset[\"loan_status_count_5\"].map(loan_status_dict)\n",
    "sns.barplot(x=dataset[\"verification_status\"], y=dataset[\"loan_amnt\"], hue=dataset[\"loan_status_count_5\"],\n",
    "            hue_order=labels,\n",
    "            ax=ax_loan_status_home, estimator=lambda x: len(x) / len(dataset[\"loan_status_count_5\"]) * 100)\n",
    "ax_loan_status_home.set_title(\"Loan status per verification\", fontsize=16)\n",
    "ax_loan_status_home.set_xlabel(\"verification status\", fontsize=16)\n",
    "ax_loan_status_home.set_ylabel(\"per verification status loans percent\", fontsize=16)\n",
    "plt.show()\n",
    "plt.close()\n",
    "dataset.drop([\"loan_status_count_5\"], axis=1, inplace=True)"
   ]
  },
  {
   "cell_type": "markdown",
   "metadata": {},
   "source": [
    "# 7. Issue Date"
   ]
  },
  {
   "cell_type": "code",
   "execution_count": 40,
   "metadata": {},
   "outputs": [],
   "source": [
    "dataset.issue_d = pd.to_datetime(dataset.issue_d, format='%b-%y')"
   ]
  },
  {
   "cell_type": "markdown",
   "metadata": {},
   "source": [
    "split the available date into month and year column."
   ]
  },
  {
   "cell_type": "code",
   "execution_count": 41,
   "metadata": {},
   "outputs": [],
   "source": [
    "dataset['issue_yr']=pd.DatetimeIndex(dataset['issue_d']).year\n",
    "dataset['issue_month']=pd.DatetimeIndex(dataset['issue_d']).month"
   ]
  },
  {
   "cell_type": "code",
   "execution_count": 42,
   "metadata": {},
   "outputs": [
    {
     "data": {
      "text/plain": [
       "0    2011\n",
       "1    2011\n",
       "2    2011\n",
       "3    2011\n",
       "4    2011\n",
       "Name: issue_yr, dtype: int64"
      ]
     },
     "execution_count": 42,
     "metadata": {},
     "output_type": "execute_result"
    }
   ],
   "source": [
    "dataset.issue_yr.head()"
   ]
  },
  {
   "cell_type": "code",
   "execution_count": 43,
   "metadata": {
    "scrolled": true
   },
   "outputs": [
    {
     "data": {
      "image/png": "[encoded data removed]",
      "text/plain": [
       "<Figure size 432x288 with 1 Axes>"
      ]
     },
     "metadata": {
      "needs_background": "light"
     },
     "output_type": "display_data"
    }
   ],
   "source": [
    "sns.barplot(x='issue_yr', y='loan_amnt', data=dataset)\n",
    "plt.show()"
   ]
  },
  {
   "cell_type": "code",
   "execution_count": 44,
   "metadata": {},
   "outputs": [
    {
     "data": {
      "text/plain": [
       "<matplotlib.axes._subplots.AxesSubplot at 0x11d8ebd50>"
      ]
     },
     "execution_count": 44,
     "metadata": {},
     "output_type": "execute_result"
    },
    {
     "data": {
      "image/png": "[encoded data removed]",
      "text/plain": [
       "<Figure size 1080x360 with 2 Axes>"
      ]
     },
     "metadata": {
      "needs_background": "light"
     },
     "output_type": "display_data"
    }
   ],
   "source": [
    "plt.figure(figsize=(15,5))\n",
    "plt.subplot(1, 3, 1)\n",
    "sns.countplot(dataset['issue_yr'], order=sorted(dataset.issue_yr.unique()))\n",
    "\n",
    "plt.subplot(1, 3, 2)\n",
    "sns.countplot(dataset['issue_month'], order=sorted(dataset.issue_month.unique()))"
   ]
  },
  {
   "cell_type": "markdown",
   "metadata": {},
   "source": [
    "# 8. Loan Status"
   ]
  },
  {
   "cell_type": "code",
   "execution_count": 45,
   "metadata": {},
   "outputs": [
    {
     "name": "stdout",
     "output_type": "stream",
     "text": [
      "52494\n",
      "281768\n"
     ]
    }
   ],
   "source": [
    "defaulter = 0\n",
    "non_defaulter = 0\n",
    "for i in dataset.loan_status:\n",
    "    if(i in ['Default','Charged Off','Does not meet the credit policy. Status:Charged Off','Late (31-120 days)']):\n",
    "        defaulter+=1\n",
    "    else:\n",
    "        non_defaulter+=1\n",
    "print(defaulter)\n",
    "print(non_defaulter)"
   ]
  },
  {
   "cell_type": "code",
   "execution_count": 46,
   "metadata": {
    "scrolled": false
   },
   "outputs": [
    {
     "data": {
      "image/png": "[encoded data removed]",
      "text/plain": [
       "<Figure size 1440x2160 with 2 Axes>"
      ]
     },
     "metadata": {
      "needs_background": "light"
     },
     "output_type": "display_data"
    }
   ],
   "source": [
    "fig, ax =plt.subplots(2,1,figsize=(20,30))\n",
    "plt.subplots_adjust(hspace = 0.4, top = 1.0)\n",
    "\n",
    "s0 = sns.countplot(x=\"loan_status\", data=dataset,ax=ax[0])\n",
    "s0.set_xticklabels(s0.get_xticklabels(),rotation=45)\n",
    "\n",
    "\n",
    "s1 = sns.violinplot(x=\"loan_status\", y=\"loan_amnt\", data=dataset,ax=ax[1] , estimator=sum)\n",
    "#s2 = sns.violinplot(x=totalloansOverStatus.index, y=totalloansOverStatus[\"Total Loan Amount\"],ax=ax[2] )\n",
    "s1.set_xticklabels(s1.get_xticklabels(),rotation=45)\n",
    "\n",
    "plt.show()"
   ]
  },
  {
   "cell_type": "markdown",
   "metadata": {},
   "source": [
    "# 9. Purpose"
   ]
  },
  {
   "cell_type": "code",
   "execution_count": 47,
   "metadata": {},
   "outputs": [
    {
     "data": {
      "text/plain": [
       "debt_consolidation    190974\n",
       "credit_card            69177\n",
       "home_improvement       20895\n",
       "other                  20703\n",
       "major_purchase          8439\n",
       "small_business          5953\n",
       "car                     4728\n",
       "medical                 3741\n",
       "moving                  2438\n",
       "wedding                 2336\n",
       "vacation                2138\n",
       "house                   1993\n",
       "educational              422\n",
       "renewable_energy         325\n",
       "Name: purpose, dtype: int64"
      ]
     },
     "execution_count": 47,
     "metadata": {},
     "output_type": "execute_result"
    }
   ],
   "source": [
    "dataset['purpose'].value_counts()"
   ]
  },
  {
   "cell_type": "code",
   "execution_count": 48,
   "metadata": {},
   "outputs": [
    {
     "data": {
      "image/png": "[encoded data removed]",
      "text/plain": [
       "<Figure size 1080x720 with 1 Axes>"
      ]
     },
     "metadata": {
      "needs_background": "light"
     },
     "output_type": "display_data"
    }
   ],
   "source": [
    "# the ratio of good loans and bad loans for each loan purpose\n",
    "loan_status_dict = {\"Fully Paid\": 1, \"Current\": 1, \"Charged Off\": 0, \"Late (31-120 days)\": 0, \"Does not meet the credit policy. Status:Fully Paid\" : 1,\n",
    "                    \"In Grace Period\": 1, \"Late (16-30 days)\": 1, \"Default\": 0, \"Does not meet the credit policy. Status:Charged Off\":0}\n",
    "dataset[\"loan_status_count_4\"] = dataset[\"loan_status\"].map(loan_status_dict)\n",
    "dataset[\"loan_status_count_4\"] = dataset[\"loan_status_count_4\"].astype(\"float\")\n",
    "f_loan_status_purpose, ax_loan_status_purpose = plt.subplots(figsize=(15, 10))\n",
    "labels = \"Good loans\", \"Bad loans\"\n",
    "loan_status_dict = {1.0: \"Good loans\", 0.0: \"Bad loans\"}\n",
    "dataset[\"loan_status_count_4\"] = dataset[\"loan_status_count_4\"].map(loan_status_dict)\n",
    "sns.barplot(x=dataset[\"purpose\"], y=dataset[\"loan_amnt\"], hue=dataset[\"loan_status_count_4\"], hue_order=labels,\n",
    "            ax=ax_loan_status_purpose, estimator=lambda x: len(x) / len(dataset[\"loan_status_count_4\"]) * 100)\n",
    "ax_loan_status_purpose.set_title(\"Loan status per purpose percent\", fontsize=16)\n",
    "ax_loan_status_purpose.set_xticklabels(ax_loan_status_purpose.get_xticklabels(), rotation=45)\n",
    "ax_loan_status_purpose.set_xlabel(\"purpose\", fontsize=16)\n",
    "ax_loan_status_purpose.set_ylabel(\"per purpose loans percent\", fontsize=16)\n",
    "plt.show()\n",
    "plt.close()\n",
    "dataset.drop([\"loan_status_count_4\"], axis=1, inplace=True)"
   ]
  },
  {
   "cell_type": "markdown",
   "metadata": {},
   "source": [
    "# 10. DTI"
   ]
  },
  {
   "cell_type": "code",
   "execution_count": 49,
   "metadata": {},
   "outputs": [
    {
     "data": {
      "text/plain": [
       "count    334234.000000\n",
       "mean          0.001712\n",
       "std           0.000909\n",
       "min           0.000000\n",
       "25%           0.001121\n",
       "50%           0.001677\n",
       "75%           0.002265\n",
       "max           0.099900\n",
       "Name: dti, dtype: float64"
      ]
     },
     "execution_count": 49,
     "metadata": {},
     "output_type": "execute_result"
    }
   ],
   "source": [
    "dataset.dti.describe()"
   ]
  },
  {
   "cell_type": "code",
   "execution_count": 50,
   "metadata": {},
   "outputs": [
    {
     "data": {
      "image/png": "[encoded data removed]",
      "text/plain": [
       "<Figure size 1080x720 with 2 Axes>"
      ]
     },
     "metadata": {},
     "output_type": "display_data"
    }
   ],
   "source": [
    "loan_data_dti = dataset[dataset[\"dti\"] <= 100.0]\n",
    "#loan_data_dti = dataset[loan_data_dti[\"dti\"] > 0.0]\n",
    "sns.set_style(\"whitegrid\")\n",
    "f_dti, ax_dti = plt.subplots(1, 2, figsize=(15, 10))\n",
    "sns.distplot(loan_data_dti[\"dti\"], ax=ax_dti[0], color=\"#F7522F\")\n",
    "sns.violinplot(y=loan_data_dti[\"dti\"], ax=ax_dti[1], inner=\"quartile\", palette=\"Reds\")\n",
    "ax_dti[0].set_title(\"dti distribution\", fontsize=16)\n",
    "ax_dti[1].set_title(\"dti distribution\", fontsize=16)\n",
    "ax_dti[0].set_xlabel(\"dti\", fontsize=16)\n",
    "ax_dti[1].set_ylabel(\"dti\", fontsize=16)\n",
    "plt.show()\n",
    "plt.close()"
   ]
  },
  {
   "cell_type": "code",
   "execution_count": 110,
   "metadata": {
    "scrolled": false
   },
   "outputs": [
    {
     "data": {
      "text/plain": [
       "<matplotlib.axes._subplots.AxesSubplot at 0x11d7da390>"
      ]
     },
     "execution_count": 110,
     "metadata": {},
     "output_type": "execute_result"
    },
    {
     "data": {
      "image/png": "[encoded data removed]",
      "text/plain": [
       "<Figure size 1080x216 with 1 Axes>"
      ]
     },
     "metadata": {},
     "output_type": "display_data"
    }
   ],
   "source": [
    "plt.figure(figsize=(15, 3))\n",
    "sns.boxplot(x=dataset['dti'], data=dataset)"
   ]
  },
  {
   "cell_type": "markdown",
   "metadata": {},
   "source": [
    "# Data Transformation"
   ]
  },
  {
   "cell_type": "code",
   "execution_count": 52,
   "metadata": {},
   "outputs": [
    {
     "name": "stdout",
     "output_type": "stream",
     "text": [
      "['annual_inc', 4, 'dti', 28, 'inq_last_6mths', 29, 'open_acc', 29, 'pub_rec', 29, 'revol_util', 298, 'total_acc', 29, 'pub_rec_bankruptcies', 1365]\n"
     ]
    }
   ],
   "source": [
    "# checking for the number of null values in each column \n",
    "num_column = []\n",
    "length = []\n",
    "for i in dataset.columns:\n",
    "    if (dataset[str(i)].isnull().any().any()):\n",
    "        #print(i)\n",
    "        num_column.append(i)\n",
    "        num_column.append(dataset[str(i)].isnull().sum())\n",
    "\n",
    "#num_column = nan_col, length\n",
    "print(num_column)"
   ]
  },
  {
   "cell_type": "code",
   "execution_count": 53,
   "metadata": {},
   "outputs": [
    {
     "name": "stdout",
     "output_type": "stream",
     "text": [
      "['loan_amnt', 1498, 'term', 2, 'grade', 7, 'home_ownership', 6, 'annual_inc', 24098, 'verification_status', 3, 'issue_d', 82, 'loan_status', 9, 'purpose', 14, 'dti', 4211, 'fico_range_high', 48, 'inq_last_6mths', 28, 'open_acc', 65, 'pub_rec', 21, 'revol_bal', 52828, 'revol_util', 1204, 'total_acc', 110, 'initial_list_status', 2, 'total_pymnt', 286866, 'pub_rec_bankruptcies', 9, 'issue_yr', 8, 'issue_month', 12]\n"
     ]
    }
   ],
   "source": [
    "# Checking the unique values in each column\n",
    "num_column = []\n",
    "length = []\n",
    "for i in dataset.columns:\n",
    "    num_column.append(i)\n",
    "    num_column.append(len(dataset[str(i)].value_counts()))\n",
    "        #print(i)\n",
    "    \n",
    "        \n",
    "print(num_column)"
   ]
  },
  {
   "cell_type": "code",
   "execution_count": 54,
   "metadata": {
    "scrolled": true
   },
   "outputs": [
    {
     "data": {
      "text/html": [
       "<div>\n",
       "<style scoped>\n",
       "    .dataframe tbody tr th:only-of-type {\n",
       "        vertical-align: middle;\n",
       "    }\n",
       "\n",
       "    .dataframe tbody tr th {\n",
       "        vertical-align: top;\n",
       "    }\n",
       "\n",
       "    .dataframe thead th {\n",
       "        text-align: right;\n",
       "    }\n",
       "</style>\n",
       "<table border=\"1\" class=\"dataframe\">\n",
       "  <thead>\n",
       "    <tr style=\"text-align: right;\">\n",
       "      <th></th>\n",
       "      <th>term</th>\n",
       "      <th>grade</th>\n",
       "      <th>home_ownership</th>\n",
       "      <th>verification_status</th>\n",
       "      <th>loan_status</th>\n",
       "      <th>purpose</th>\n",
       "      <th>revol_util</th>\n",
       "      <th>initial_list_status</th>\n",
       "    </tr>\n",
       "  </thead>\n",
       "  <tbody>\n",
       "    <tr>\n",
       "      <th>0</th>\n",
       "      <td>36 months</td>\n",
       "      <td>B</td>\n",
       "      <td>RENT</td>\n",
       "      <td>Verified</td>\n",
       "      <td>Fully Paid</td>\n",
       "      <td>credit_card</td>\n",
       "      <td>83.70%</td>\n",
       "      <td>f</td>\n",
       "    </tr>\n",
       "    <tr>\n",
       "      <th>1</th>\n",
       "      <td>60 months</td>\n",
       "      <td>C</td>\n",
       "      <td>RENT</td>\n",
       "      <td>Source Verified</td>\n",
       "      <td>Charged Off</td>\n",
       "      <td>car</td>\n",
       "      <td>9.40%</td>\n",
       "      <td>f</td>\n",
       "    </tr>\n",
       "    <tr>\n",
       "      <th>2</th>\n",
       "      <td>36 months</td>\n",
       "      <td>C</td>\n",
       "      <td>RENT</td>\n",
       "      <td>Not Verified</td>\n",
       "      <td>Fully Paid</td>\n",
       "      <td>small_business</td>\n",
       "      <td>98.50%</td>\n",
       "      <td>f</td>\n",
       "    </tr>\n",
       "    <tr>\n",
       "      <th>3</th>\n",
       "      <td>36 months</td>\n",
       "      <td>C</td>\n",
       "      <td>RENT</td>\n",
       "      <td>Source Verified</td>\n",
       "      <td>Fully Paid</td>\n",
       "      <td>other</td>\n",
       "      <td>21%</td>\n",
       "      <td>f</td>\n",
       "    </tr>\n",
       "    <tr>\n",
       "      <th>4</th>\n",
       "      <td>60 months</td>\n",
       "      <td>B</td>\n",
       "      <td>RENT</td>\n",
       "      <td>Source Verified</td>\n",
       "      <td>Fully Paid</td>\n",
       "      <td>other</td>\n",
       "      <td>53.90%</td>\n",
       "      <td>f</td>\n",
       "    </tr>\n",
       "  </tbody>\n",
       "</table>\n",
       "</div>"
      ],
      "text/plain": [
       "         term grade home_ownership verification_status  loan_status  \\\n",
       "0   36 months     B           RENT            Verified   Fully Paid   \n",
       "1   60 months     C           RENT     Source Verified  Charged Off   \n",
       "2   36 months     C           RENT        Not Verified   Fully Paid   \n",
       "3   36 months     C           RENT     Source Verified   Fully Paid   \n",
       "4   60 months     B           RENT     Source Verified   Fully Paid   \n",
       "\n",
       "          purpose revol_util initial_list_status  \n",
       "0     credit_card     83.70%                   f  \n",
       "1             car      9.40%                   f  \n",
       "2  small_business     98.50%                   f  \n",
       "3           other        21%                   f  \n",
       "4           other     53.90%                   f  "
      ]
     },
     "execution_count": 54,
     "metadata": {},
     "output_type": "execute_result"
    }
   ],
   "source": [
    "# checking the number of catagorical variables in our dataset\n",
    "dataset.select_dtypes(include=[\"object\"]).head()"
   ]
  },
  {
   "cell_type": "code",
   "execution_count": 55,
   "metadata": {
    "scrolled": true
   },
   "outputs": [
    {
     "data": {
      "text/html": [
       "<div>\n",
       "<style scoped>\n",
       "    .dataframe tbody tr th:only-of-type {\n",
       "        vertical-align: middle;\n",
       "    }\n",
       "\n",
       "    .dataframe tbody tr th {\n",
       "        vertical-align: top;\n",
       "    }\n",
       "\n",
       "    .dataframe thead th {\n",
       "        text-align: right;\n",
       "    }\n",
       "</style>\n",
       "<table border=\"1\" class=\"dataframe\">\n",
       "  <thead>\n",
       "    <tr style=\"text-align: right;\">\n",
       "      <th></th>\n",
       "      <th>loan_amnt</th>\n",
       "      <th>annual_inc</th>\n",
       "      <th>dti</th>\n",
       "      <th>fico_range_high</th>\n",
       "      <th>inq_last_6mths</th>\n",
       "      <th>open_acc</th>\n",
       "      <th>pub_rec</th>\n",
       "      <th>revol_bal</th>\n",
       "      <th>total_acc</th>\n",
       "      <th>total_pymnt</th>\n",
       "      <th>pub_rec_bankruptcies</th>\n",
       "      <th>issue_yr</th>\n",
       "      <th>issue_month</th>\n",
       "    </tr>\n",
       "  </thead>\n",
       "  <tbody>\n",
       "    <tr>\n",
       "      <th>0</th>\n",
       "      <td>5000</td>\n",
       "      <td>24000.0</td>\n",
       "      <td>0.002765</td>\n",
       "      <td>739</td>\n",
       "      <td>1.0</td>\n",
       "      <td>3.0</td>\n",
       "      <td>0.0</td>\n",
       "      <td>13648</td>\n",
       "      <td>9.0</td>\n",
       "      <td>5863.155187</td>\n",
       "      <td>0.0</td>\n",
       "      <td>2011</td>\n",
       "      <td>12</td>\n",
       "    </tr>\n",
       "    <tr>\n",
       "      <th>1</th>\n",
       "      <td>2500</td>\n",
       "      <td>30000.0</td>\n",
       "      <td>0.000100</td>\n",
       "      <td>744</td>\n",
       "      <td>5.0</td>\n",
       "      <td>3.0</td>\n",
       "      <td>0.0</td>\n",
       "      <td>1687</td>\n",
       "      <td>4.0</td>\n",
       "      <td>1014.530000</td>\n",
       "      <td>0.0</td>\n",
       "      <td>2011</td>\n",
       "      <td>12</td>\n",
       "    </tr>\n",
       "    <tr>\n",
       "      <th>2</th>\n",
       "      <td>2400</td>\n",
       "      <td>12252.0</td>\n",
       "      <td>0.000872</td>\n",
       "      <td>739</td>\n",
       "      <td>2.0</td>\n",
       "      <td>2.0</td>\n",
       "      <td>0.0</td>\n",
       "      <td>2956</td>\n",
       "      <td>10.0</td>\n",
       "      <td>3005.666844</td>\n",
       "      <td>0.0</td>\n",
       "      <td>2011</td>\n",
       "      <td>12</td>\n",
       "    </tr>\n",
       "    <tr>\n",
       "      <th>3</th>\n",
       "      <td>10000</td>\n",
       "      <td>49200.0</td>\n",
       "      <td>0.002000</td>\n",
       "      <td>694</td>\n",
       "      <td>1.0</td>\n",
       "      <td>10.0</td>\n",
       "      <td>0.0</td>\n",
       "      <td>5598</td>\n",
       "      <td>37.0</td>\n",
       "      <td>12231.890000</td>\n",
       "      <td>0.0</td>\n",
       "      <td>2011</td>\n",
       "      <td>12</td>\n",
       "    </tr>\n",
       "    <tr>\n",
       "      <th>4</th>\n",
       "      <td>3000</td>\n",
       "      <td>80000.0</td>\n",
       "      <td>0.001794</td>\n",
       "      <td>699</td>\n",
       "      <td>0.0</td>\n",
       "      <td>15.0</td>\n",
       "      <td>0.0</td>\n",
       "      <td>27783</td>\n",
       "      <td>38.0</td>\n",
       "      <td>4066.908161</td>\n",
       "      <td>0.0</td>\n",
       "      <td>2011</td>\n",
       "      <td>12</td>\n",
       "    </tr>\n",
       "  </tbody>\n",
       "</table>\n",
       "</div>"
      ],
      "text/plain": [
       "   loan_amnt  annual_inc       dti  fico_range_high  inq_last_6mths  open_acc  \\\n",
       "0       5000     24000.0  0.002765              739             1.0       3.0   \n",
       "1       2500     30000.0  0.000100              744             5.0       3.0   \n",
       "2       2400     12252.0  0.000872              739             2.0       2.0   \n",
       "3      10000     49200.0  0.002000              694             1.0      10.0   \n",
       "4       3000     80000.0  0.001794              699             0.0      15.0   \n",
       "\n",
       "   pub_rec  revol_bal  total_acc   total_pymnt  pub_rec_bankruptcies  \\\n",
       "0      0.0      13648        9.0   5863.155187                   0.0   \n",
       "1      0.0       1687        4.0   1014.530000                   0.0   \n",
       "2      0.0       2956       10.0   3005.666844                   0.0   \n",
       "3      0.0       5598       37.0  12231.890000                   0.0   \n",
       "4      0.0      27783       38.0   4066.908161                   0.0   \n",
       "\n",
       "   issue_yr  issue_month  \n",
       "0      2011           12  \n",
       "1      2011           12  \n",
       "2      2011           12  \n",
       "3      2011           12  \n",
       "4      2011           12  "
      ]
     },
     "execution_count": 55,
     "metadata": {},
     "output_type": "execute_result"
    }
   ],
   "source": [
    "dataset.select_dtypes(include=[\"float64\",\"int64\"]).head()"
   ]
  },
  {
   "cell_type": "code",
   "execution_count": 56,
   "metadata": {},
   "outputs": [],
   "source": [
    "#CONVERT 'term' FROM STRING TO INT, REMOVING THE 'months' WORD\n",
    "dataset.term = dataset.term.str.split(\" \").str[1].astype(float)\n",
    "\n",
    "#REMOVE '%' FROM 'revol_util' TO CONVERT IT INTO NUMBERIC DATA\n",
    "dataset.revol_util = pd.Series(dataset.revol_util).str.replace('%', '').astype(float)\n",
    "\n",
    "#replace 'None' & 'Any' with 'Other' FROM 'home_ownership'\n",
    "dataset['home_ownership'].replace(['NONE', 'ANY'], 'OTHER', inplace=True)"
   ]
  },
  {
   "cell_type": "markdown",
   "metadata": {},
   "source": [
    "Applying Label encoding for other features (columns) to convert into numerical values"
   ]
  },
  {
   "cell_type": "code",
   "execution_count": 57,
   "metadata": {},
   "outputs": [],
   "source": [
    "from sklearn.preprocessing import LabelEncoder\n",
    "lb_make = LabelEncoder()"
   ]
  },
  {
   "cell_type": "code",
   "execution_count": 58,
   "metadata": {},
   "outputs": [],
   "source": [
    "#grade: [(A,0),(B,1), (C,2), (D,3), (E,4), (F,5), (G,6)]\n",
    "dataset.grade = lb_make.fit_transform(dataset.grade)\n",
    "\n",
    "#home_ownership: [((MORTGAGE,0),(OTHER,1),(OWN,2),(RENT,3)]\n",
    "dataset.home_ownership = lb_make.fit_transform(dataset.home_ownership)\n",
    "\n",
    "#verification_status : [(Not Verified,0),(Source Verified,1),(Verified,2)]\n",
    "dataset.verification_status = lb_make.fit_transform(dataset.verification_status)\n",
    "\n",
    "#purpose : [(car,0),(credit_card,1),(debt_consolidation,2),(educational,3),(home_improvement,4),(house,5),(major_purchase,6),(medical,7),(moving,8),(other,9),(renewable_energy,10),(small_business,11),(vacation,12),(wedding,13)]\n",
    "dataset.purpose = lb_make.fit_transform(dataset.purpose)\n",
    "\n",
    "#initial_list_status : [(f,0),(w,1)]\n",
    "dataset.initial_list_status = lb_make.fit_transform(dataset.initial_list_status)\n",
    "\n",
    "#issue_d\n",
    "dataset.issue_d = lb_make.fit_transform(dataset.issue_d)"
   ]
  },
  {
   "cell_type": "code",
   "execution_count": 59,
   "metadata": {},
   "outputs": [],
   "source": [
    "dataset.loan_status.replace(['Charged Off', 'Default', 'Late (31-120 days)', 'Does not meet credit policy. Status Charged Off', 'Does not meet the credit policy. Status:Charged Off'],1,inplace=True)"
   ]
  },
  {
   "cell_type": "code",
   "execution_count": 60,
   "metadata": {},
   "outputs": [],
   "source": [
    "dataset.loan_status.replace(['Current', 'Fully Paid', 'In Grace Period', 'Late (16-30 days)', 'Does not meet credit policy. Status Fully Paid', 'Does not meet the credit policy. Status:Fully Paid'],0,inplace=True)"
   ]
  },
  {
   "cell_type": "code",
   "execution_count": 61,
   "metadata": {},
   "outputs": [
    {
     "data": {
      "text/plain": [
       "0    87154\n",
       "1    16392\n",
       "Name: loan_status, dtype: int64"
      ]
     },
     "execution_count": 61,
     "metadata": {},
     "output_type": "execute_result"
    }
   ],
   "source": [
    "dataset[dataset.issue_yr == 2016].loan_status.value_counts()"
   ]
  },
  {
   "cell_type": "markdown",
   "metadata": {},
   "source": [
    "# Filling up missing values"
   ]
  },
  {
   "cell_type": "markdown",
   "metadata": {},
   "source": [
    "As we have fewer missing value than the orignal dataset, we would use k-Neareast Neighbor (kNN) Imputation to handle the missing data"
   ]
  },
  {
   "cell_type": "code",
   "execution_count": 62,
   "metadata": {},
   "outputs": [],
   "source": [
    "from sklearn.impute import KNNImputer\n",
    "K = KNNImputer(n_neighbors=5)\n",
    "d = dataset.columns\n",
    "cat = K.fit_transform(dataset)"
   ]
  },
  {
   "cell_type": "code",
   "execution_count": 63,
   "metadata": {},
   "outputs": [],
   "source": [
    "df = pd.DataFrame(cat, columns=d)"
   ]
  },
  {
   "cell_type": "code",
   "execution_count": 64,
   "metadata": {
    "scrolled": true
   },
   "outputs": [
    {
     "data": {
      "text/html": [
       "<div>\n",
       "<style scoped>\n",
       "    .dataframe tbody tr th:only-of-type {\n",
       "        vertical-align: middle;\n",
       "    }\n",
       "\n",
       "    .dataframe tbody tr th {\n",
       "        vertical-align: top;\n",
       "    }\n",
       "\n",
       "    .dataframe thead th {\n",
       "        text-align: right;\n",
       "    }\n",
       "</style>\n",
       "<table border=\"1\" class=\"dataframe\">\n",
       "  <thead>\n",
       "    <tr style=\"text-align: right;\">\n",
       "      <th></th>\n",
       "      <th>loan_amnt</th>\n",
       "      <th>term</th>\n",
       "      <th>grade</th>\n",
       "      <th>home_ownership</th>\n",
       "      <th>annual_inc</th>\n",
       "      <th>verification_status</th>\n",
       "      <th>issue_d</th>\n",
       "      <th>loan_status</th>\n",
       "      <th>purpose</th>\n",
       "      <th>dti</th>\n",
       "      <th>...</th>\n",
       "      <th>open_acc</th>\n",
       "      <th>pub_rec</th>\n",
       "      <th>revol_bal</th>\n",
       "      <th>revol_util</th>\n",
       "      <th>total_acc</th>\n",
       "      <th>initial_list_status</th>\n",
       "      <th>total_pymnt</th>\n",
       "      <th>pub_rec_bankruptcies</th>\n",
       "      <th>issue_yr</th>\n",
       "      <th>issue_month</th>\n",
       "    </tr>\n",
       "  </thead>\n",
       "  <tbody>\n",
       "    <tr>\n",
       "      <th>0</th>\n",
       "      <td>5000.0</td>\n",
       "      <td>36.0</td>\n",
       "      <td>1.0</td>\n",
       "      <td>3.0</td>\n",
       "      <td>24000.0</td>\n",
       "      <td>2.0</td>\n",
       "      <td>54.0</td>\n",
       "      <td>0.0</td>\n",
       "      <td>1.0</td>\n",
       "      <td>0.002765</td>\n",
       "      <td>...</td>\n",
       "      <td>3.0</td>\n",
       "      <td>0.0</td>\n",
       "      <td>13648.0</td>\n",
       "      <td>83.7</td>\n",
       "      <td>9.0</td>\n",
       "      <td>0.0</td>\n",
       "      <td>5863.155187</td>\n",
       "      <td>0.0</td>\n",
       "      <td>2011.0</td>\n",
       "      <td>12.0</td>\n",
       "    </tr>\n",
       "    <tr>\n",
       "      <th>1</th>\n",
       "      <td>2500.0</td>\n",
       "      <td>60.0</td>\n",
       "      <td>2.0</td>\n",
       "      <td>3.0</td>\n",
       "      <td>30000.0</td>\n",
       "      <td>1.0</td>\n",
       "      <td>54.0</td>\n",
       "      <td>1.0</td>\n",
       "      <td>0.0</td>\n",
       "      <td>0.000100</td>\n",
       "      <td>...</td>\n",
       "      <td>3.0</td>\n",
       "      <td>0.0</td>\n",
       "      <td>1687.0</td>\n",
       "      <td>9.4</td>\n",
       "      <td>4.0</td>\n",
       "      <td>0.0</td>\n",
       "      <td>1014.530000</td>\n",
       "      <td>0.0</td>\n",
       "      <td>2011.0</td>\n",
       "      <td>12.0</td>\n",
       "    </tr>\n",
       "    <tr>\n",
       "      <th>2</th>\n",
       "      <td>2400.0</td>\n",
       "      <td>36.0</td>\n",
       "      <td>2.0</td>\n",
       "      <td>3.0</td>\n",
       "      <td>12252.0</td>\n",
       "      <td>0.0</td>\n",
       "      <td>54.0</td>\n",
       "      <td>0.0</td>\n",
       "      <td>11.0</td>\n",
       "      <td>0.000872</td>\n",
       "      <td>...</td>\n",
       "      <td>2.0</td>\n",
       "      <td>0.0</td>\n",
       "      <td>2956.0</td>\n",
       "      <td>98.5</td>\n",
       "      <td>10.0</td>\n",
       "      <td>0.0</td>\n",
       "      <td>3005.666844</td>\n",
       "      <td>0.0</td>\n",
       "      <td>2011.0</td>\n",
       "      <td>12.0</td>\n",
       "    </tr>\n",
       "    <tr>\n",
       "      <th>3</th>\n",
       "      <td>10000.0</td>\n",
       "      <td>36.0</td>\n",
       "      <td>2.0</td>\n",
       "      <td>3.0</td>\n",
       "      <td>49200.0</td>\n",
       "      <td>1.0</td>\n",
       "      <td>54.0</td>\n",
       "      <td>0.0</td>\n",
       "      <td>9.0</td>\n",
       "      <td>0.002000</td>\n",
       "      <td>...</td>\n",
       "      <td>10.0</td>\n",
       "      <td>0.0</td>\n",
       "      <td>5598.0</td>\n",
       "      <td>21.0</td>\n",
       "      <td>37.0</td>\n",
       "      <td>0.0</td>\n",
       "      <td>12231.890000</td>\n",
       "      <td>0.0</td>\n",
       "      <td>2011.0</td>\n",
       "      <td>12.0</td>\n",
       "    </tr>\n",
       "    <tr>\n",
       "      <th>4</th>\n",
       "      <td>3000.0</td>\n",
       "      <td>60.0</td>\n",
       "      <td>1.0</td>\n",
       "      <td>3.0</td>\n",
       "      <td>80000.0</td>\n",
       "      <td>1.0</td>\n",
       "      <td>54.0</td>\n",
       "      <td>0.0</td>\n",
       "      <td>9.0</td>\n",
       "      <td>0.001794</td>\n",
       "      <td>...</td>\n",
       "      <td>15.0</td>\n",
       "      <td>0.0</td>\n",
       "      <td>27783.0</td>\n",
       "      <td>53.9</td>\n",
       "      <td>38.0</td>\n",
       "      <td>0.0</td>\n",
       "      <td>4066.908161</td>\n",
       "      <td>0.0</td>\n",
       "      <td>2011.0</td>\n",
       "      <td>12.0</td>\n",
       "    </tr>\n",
       "  </tbody>\n",
       "</table>\n",
       "<p>5 rows × 22 columns</p>\n",
       "</div>"
      ],
      "text/plain": [
       "   loan_amnt  term  grade  home_ownership  annual_inc  verification_status  \\\n",
       "0     5000.0  36.0    1.0             3.0     24000.0                  2.0   \n",
       "1     2500.0  60.0    2.0             3.0     30000.0                  1.0   \n",
       "2     2400.0  36.0    2.0             3.0     12252.0                  0.0   \n",
       "3    10000.0  36.0    2.0             3.0     49200.0                  1.0   \n",
       "4     3000.0  60.0    1.0             3.0     80000.0                  1.0   \n",
       "\n",
       "   issue_d  loan_status  purpose       dti  ...  open_acc  pub_rec  revol_bal  \\\n",
       "0     54.0          0.0      1.0  0.002765  ...       3.0      0.0    13648.0   \n",
       "1     54.0          1.0      0.0  0.000100  ...       3.0      0.0     1687.0   \n",
       "2     54.0          0.0     11.0  0.000872  ...       2.0      0.0     2956.0   \n",
       "3     54.0          0.0      9.0  0.002000  ...      10.0      0.0     5598.0   \n",
       "4     54.0          0.0      9.0  0.001794  ...      15.0      0.0    27783.0   \n",
       "\n",
       "   revol_util  total_acc  initial_list_status   total_pymnt  \\\n",
       "0        83.7        9.0                  0.0   5863.155187   \n",
       "1         9.4        4.0                  0.0   1014.530000   \n",
       "2        98.5       10.0                  0.0   3005.666844   \n",
       "3        21.0       37.0                  0.0  12231.890000   \n",
       "4        53.9       38.0                  0.0   4066.908161   \n",
       "\n",
       "   pub_rec_bankruptcies  issue_yr  issue_month  \n",
       "0                   0.0    2011.0         12.0  \n",
       "1                   0.0    2011.0         12.0  \n",
       "2                   0.0    2011.0         12.0  \n",
       "3                   0.0    2011.0         12.0  \n",
       "4                   0.0    2011.0         12.0  \n",
       "\n",
       "[5 rows x 22 columns]"
      ]
     },
     "execution_count": 64,
     "metadata": {},
     "output_type": "execute_result"
    }
   ],
   "source": [
    "df.head()"
   ]
  },
  {
   "cell_type": "markdown",
   "metadata": {},
   "source": [
    "# Outliers Treatment"
   ]
  },
  {
   "cell_type": "code",
   "execution_count": 65,
   "metadata": {},
   "outputs": [],
   "source": [
    "#outliers=[]\n",
    "def detect_outliers(data):\n",
    "    outliers=[]\n",
    "    threshold=3\n",
    "    mean=np.mean(data)\n",
    "    std= np.std(data)\n",
    "    \n",
    "    \n",
    "    for i in data:\n",
    "        z_score=(i-mean)/std\n",
    "        if np.abs(z_score)>threshold:\n",
    "            outliers.append(i)\n",
    "    return outliers "
   ]
  },
  {
   "cell_type": "raw",
   "metadata": {},
   "source": [
    "Clipping columns to get rid of outliers as per z_score and threshold of 3"
   ]
  },
  {
   "cell_type": "code",
   "execution_count": 68,
   "metadata": {},
   "outputs": [],
   "source": [
    "cat_cols=list(df.select_dtypes(include=['object']).columns)\n",
    "num_cols=list(df.select_dtypes(exclude=['object']).columns)"
   ]
  },
  {
   "cell_type": "code",
   "execution_count": 69,
   "metadata": {},
   "outputs": [
    {
     "name": "stdout",
     "output_type": "stream",
     "text": [
      "1147\n",
      "0\n",
      "2108\n",
      "0\n",
      "2842\n",
      "0\n",
      "6957\n",
      "0\n",
      "10427\n",
      "417\n",
      "4673\n",
      "7095\n",
      "3295\n",
      "5725\n",
      "4124\n",
      "5\n",
      "3199\n",
      "0\n",
      "3565\n",
      "1328\n",
      "603\n",
      "0\n"
     ]
    }
   ],
   "source": [
    "for k in num_cols:\n",
    "    outliers_pt=detect_outliers(df[k])\n",
    "    print(len(outliers_pt))\n",
    "    LOWERBOUND=-3*np.std(df[k])+ np.mean(df[k])\n",
    "    UPPERBOUND = 3*np.std(df[k])+ np.mean(df[k])\n",
    "    #np.clip(full_df[k], a_min=LOWERBOUND, a_max=UPPERBOUND)\n",
    "    df[k].clip(LOWERBOUND, UPPERBOUND, inplace= True)\n",
    "    #print(i)"
   ]
  },
  {
   "cell_type": "markdown",
   "metadata": {},
   "source": [
    "# Train/test split"
   ]
  },
  {
   "cell_type": "code",
   "execution_count": 70,
   "metadata": {},
   "outputs": [
    {
     "data": {
      "text/plain": [
       "((230716, 22), (103546, 22))"
      ]
     },
     "execution_count": 70,
     "metadata": {},
     "output_type": "execute_result"
    }
   ],
   "source": [
    "Train =df[df.issue_yr!=2016]\n",
    "Test = df[df.issue_yr== 2016]\n",
    "Train.shape, Test.shape"
   ]
  },
  {
   "cell_type": "code",
   "execution_count": 88,
   "metadata": {},
   "outputs": [],
   "source": [
    "x_train = Train.drop(columns=['loan_status','issue_yr', 'issue_month'])\n",
    "y_train = Train['loan_status']\n",
    "x_test = Test.drop(columns=['loan_status','issue_yr', 'issue_month'])\n",
    "y_test = Test['loan_status']"
   ]
  },
  {
   "cell_type": "code",
   "execution_count": 89,
   "metadata": {},
   "outputs": [
    {
     "data": {
      "text/plain": [
       "((230716, 19), (230716,), (103546, 19), (103546,))"
      ]
     },
     "execution_count": 89,
     "metadata": {},
     "output_type": "execute_result"
    }
   ],
   "source": [
    "x_train.shape, y_train.shape, x_test.shape, y_test.shape"
   ]
  },
  {
   "cell_type": "markdown",
   "metadata": {},
   "source": [
    "# Decision Tree Classification"
   ]
  },
  {
   "cell_type": "code",
   "execution_count": 90,
   "metadata": {},
   "outputs": [],
   "source": [
    "from sklearn.tree import DecisionTreeClassifier"
   ]
  },
  {
   "cell_type": "code",
   "execution_count": 91,
   "metadata": {},
   "outputs": [],
   "source": [
    "tree = DecisionTreeClassifier(max_depth=3)"
   ]
  },
  {
   "cell_type": "code",
   "execution_count": 92,
   "metadata": {},
   "outputs": [
    {
     "data": {
      "text/plain": [
       "DecisionTreeClassifier(ccp_alpha=0.0, class_weight=None, criterion='gini',\n",
       "                       max_depth=3, max_features=None, max_leaf_nodes=None,\n",
       "                       min_impurity_decrease=0.0, min_impurity_split=None,\n",
       "                       min_samples_leaf=1, min_samples_split=2,\n",
       "                       min_weight_fraction_leaf=0.0, presort='deprecated',\n",
       "                       random_state=None, splitter='best')"
      ]
     },
     "execution_count": 92,
     "metadata": {},
     "output_type": "execute_result"
    }
   ],
   "source": [
    "tree.fit(x_train, y_train)"
   ]
  },
  {
   "cell_type": "code",
   "execution_count": 93,
   "metadata": {},
   "outputs": [],
   "source": [
    "predictions = tree.predict(x_test)"
   ]
  },
  {
   "cell_type": "code",
   "execution_count": 94,
   "metadata": {},
   "outputs": [
    {
     "data": {
      "text/plain": [
       "array([0., 0., 0., 1., 0.])"
      ]
     },
     "execution_count": 94,
     "metadata": {},
     "output_type": "execute_result"
    }
   ],
   "source": [
    "predictions[:5]"
   ]
  },
  {
   "cell_type": "code",
   "execution_count": 95,
   "metadata": {},
   "outputs": [
    {
     "data": {
      "text/plain": [
       "230716    0.0\n",
       "230717    0.0\n",
       "230718    0.0\n",
       "230719    0.0\n",
       "230720    0.0\n",
       "Name: loan_status, dtype: float64"
      ]
     },
     "execution_count": 95,
     "metadata": {},
     "output_type": "execute_result"
    }
   ],
   "source": [
    "y_test[:5]"
   ]
  },
  {
   "cell_type": "raw",
   "metadata": {},
   "source": [
    "# We see that the predictions are pretty accurate. Let's evaluate the prediction accuracy."
   ]
  },
  {
   "cell_type": "code",
   "execution_count": 96,
   "metadata": {},
   "outputs": [],
   "source": [
    "from sklearn.metrics import accuracy_score, confusion_matrix"
   ]
  },
  {
   "cell_type": "code",
   "execution_count": 97,
   "metadata": {},
   "outputs": [
    {
     "data": {
      "text/plain": [
       "0.8371158712069998"
      ]
     },
     "execution_count": 97,
     "metadata": {},
     "output_type": "execute_result"
    }
   ],
   "source": [
    "accuracy_score(y_test, predictions)"
   ]
  },
  {
   "cell_type": "code",
   "execution_count": 111,
   "metadata": {},
   "outputs": [
    {
     "data": {
      "text/html": [
       "<div>\n",
       "<style scoped>\n",
       "    .dataframe tbody tr th:only-of-type {\n",
       "        vertical-align: middle;\n",
       "    }\n",
       "\n",
       "    .dataframe tbody tr th {\n",
       "        vertical-align: top;\n",
       "    }\n",
       "\n",
       "    .dataframe thead th {\n",
       "        text-align: right;\n",
       "    }\n",
       "</style>\n",
       "<table border=\"1\" class=\"dataframe\">\n",
       "  <thead>\n",
       "    <tr style=\"text-align: right;\">\n",
       "      <th></th>\n",
       "      <th>Predicted Good</th>\n",
       "      <th>Predicted Bad</th>\n",
       "    </tr>\n",
       "  </thead>\n",
       "  <tbody>\n",
       "    <tr>\n",
       "      <th>Good Loan</th>\n",
       "      <td>78082</td>\n",
       "      <td>9072</td>\n",
       "    </tr>\n",
       "    <tr>\n",
       "      <th>Bad Loan</th>\n",
       "      <td>7794</td>\n",
       "      <td>8598</td>\n",
       "    </tr>\n",
       "  </tbody>\n",
       "</table>\n",
       "</div>"
      ],
      "text/plain": [
       "           Predicted Good  Predicted Bad\n",
       "Good Loan           78082           9072\n",
       "Bad Loan             7794           8598"
      ]
     },
     "execution_count": 111,
     "metadata": {},
     "output_type": "execute_result"
    }
   ],
   "source": [
    "confusion_mat = confusion_matrix(y_test, predictions)\n",
    "confusion_df = pd.DataFrame(confusion_mat, index=[\"Good Loan\",'Bad Loan'],\\\n",
    "                            columns=['Predicted Good','Predicted Bad'])\n",
    "confusion_df"
   ]
  },
  {
   "cell_type": "code",
   "execution_count": 112,
   "metadata": {},
   "outputs": [
    {
     "data": {
      "image/png": "[encoded data removed]",
      "text/plain": [
       "<Figure size 432x288 with 2 Axes>"
      ]
     },
     "metadata": {},
     "output_type": "display_data"
    }
   ],
   "source": [
    "_=sns.heatmap(confusion_df, cmap=\"winter\", annot=True)"
   ]
  },
  {
   "cell_type": "code",
   "execution_count": 115,
   "metadata": {},
   "outputs": [
    {
     "name": "stdout",
     "output_type": "stream",
     "text": [
      "Accuracy: 0.8371158712069998\n",
      "Precision: 0.4865874363327674\n",
      "Recall: 0.5245241581259151\n"
     ]
    }
   ],
   "source": [
    "# CONFUSION MATRIX EVALUATION METRIC\n",
    "\n",
    "print(\"Accuracy:\",metrics.accuracy_score(y_test, predictions))\n",
    "print(\"Precision:\",metrics.precision_score(y_test, predictions))\n",
    "print(\"Recall:\",metrics.recall_score(y_test, predictions))"
   ]
  },
  {
   "cell_type": "code",
   "execution_count": 124,
   "metadata": {},
   "outputs": [],
   "source": [
    "# CALCULATE ROC CURVE\n",
    "\n",
    "from sklearn.metrics import roc_curve, roc_auc_score"
   ]
  },
  {
   "cell_type": "code",
   "execution_count": 125,
   "metadata": {},
   "outputs": [],
   "source": [
    "probs_dt = tree.predict_proba(x_test)[::,1]"
   ]
  },
  {
   "cell_type": "code",
   "execution_count": 126,
   "metadata": {},
   "outputs": [
    {
     "name": "stdout",
     "output_type": "stream",
     "text": [
      "0.7602135092140351\n"
     ]
    }
   ],
   "source": [
    "auc = roc_auc_score(y_test, probs_dt)\n",
    "print(auc)"
   ]
  },
  {
   "cell_type": "code",
   "execution_count": 127,
   "metadata": {},
   "outputs": [],
   "source": [
    "fpr, tpr, threshold = roc_curve(y_test, probs_dt)"
   ]
  },
  {
   "cell_type": "code",
   "execution_count": 128,
   "metadata": {},
   "outputs": [
    {
     "data": {
      "image/png": "[encoded data removed]",
      "text/plain": [
       "<Figure size 792x648 with 1 Axes>"
      ]
     },
     "metadata": {},
     "output_type": "display_data"
    }
   ],
   "source": [
    "plt.figure(figsize=(11,9))\n",
    "plt.title('Receiver Operating Characteristic')\n",
    "plt.plot(fpr, tpr, 'b', label = 'AUC = %0.2f' % auc)\n",
    "plt.legend(loc = 'lower right')\n",
    "plt.plot([0, 1], [0, 1],'r--')\n",
    "plt.xlim([0, 1])\n",
    "plt.ylim([0, 1])\n",
    "plt.ylabel('True Positive Rate')\n",
    "plt.xlabel('False Positive Rate')\n",
    "plt.show()"
   ]
  },
  {
   "cell_type": "markdown",
   "metadata": {},
   "source": [
    "# RANDOM FOREST CLASSIFIER "
   ]
  },
  {
   "cell_type": "code",
   "execution_count": 100,
   "metadata": {},
   "outputs": [],
   "source": [
    "from sklearn.ensemble import RandomForestClassifier\n",
    "from sklearn.model_selection import GridSearchCV"
   ]
  },
  {
   "cell_type": "code",
   "execution_count": 101,
   "metadata": {},
   "outputs": [],
   "source": [
    "param_grid = [{\"max_depth\":[3,4,5,None], \"max_features\":[2,3,4,5,None]}]"
   ]
  },
  {
   "cell_type": "code",
   "execution_count": 102,
   "metadata": {},
   "outputs": [],
   "source": [
    "gs = GridSearchCV(estimator=RandomForestClassifier(random_state=101),\\\n",
    "                 param_grid = param_grid,\\\n",
    "                 cv=10)"
   ]
  },
  {
   "cell_type": "code",
   "execution_count": 103,
   "metadata": {},
   "outputs": [
    {
     "data": {
      "text/plain": [
       "GridSearchCV(cv=10, error_score=nan,\n",
       "             estimator=RandomForestClassifier(bootstrap=True, ccp_alpha=0.0,\n",
       "                                              class_weight=None,\n",
       "                                              criterion='gini', max_depth=None,\n",
       "                                              max_features='auto',\n",
       "                                              max_leaf_nodes=None,\n",
       "                                              max_samples=None,\n",
       "                                              min_impurity_decrease=0.0,\n",
       "                                              min_impurity_split=None,\n",
       "                                              min_samples_leaf=1,\n",
       "                                              min_samples_split=2,\n",
       "                                              min_weight_fraction_leaf=0.0,\n",
       "                                              n_estimators=100, n_jobs=None,\n",
       "                                              oob_score=False, random_state=101,\n",
       "                                              verbose=0, warm_start=False),\n",
       "             iid='deprecated', n_jobs=None,\n",
       "             param_grid=[{'max_depth': [3, 4, 5, None],\n",
       "                          'max_features': [2, 3, 4, 5, None]}],\n",
       "             pre_dispatch='2*n_jobs', refit=True, return_train_score=False,\n",
       "             scoring=None, verbose=0)"
      ]
     },
     "execution_count": 103,
     "metadata": {},
     "output_type": "execute_result"
    }
   ],
   "source": [
    "gs.fit(x_train, y_train)"
   ]
  },
  {
   "cell_type": "code",
   "execution_count": 104,
   "metadata": {},
   "outputs": [
    {
     "data": {
      "text/plain": [
       "[{'max_depth': 3, 'max_features': 2},\n",
       " {'max_depth': 3, 'max_features': 3},\n",
       " {'max_depth': 3, 'max_features': 4},\n",
       " {'max_depth': 3, 'max_features': 5},\n",
       " {'max_depth': 3, 'max_features': None},\n",
       " {'max_depth': 4, 'max_features': 2},\n",
       " {'max_depth': 4, 'max_features': 3},\n",
       " {'max_depth': 4, 'max_features': 4},\n",
       " {'max_depth': 4, 'max_features': 5},\n",
       " {'max_depth': 4, 'max_features': None},\n",
       " {'max_depth': 5, 'max_features': 2},\n",
       " {'max_depth': 5, 'max_features': 3},\n",
       " {'max_depth': 5, 'max_features': 4},\n",
       " {'max_depth': 5, 'max_features': 5},\n",
       " {'max_depth': 5, 'max_features': None},\n",
       " {'max_depth': None, 'max_features': 2},\n",
       " {'max_depth': None, 'max_features': 3},\n",
       " {'max_depth': None, 'max_features': 4},\n",
       " {'max_depth': None, 'max_features': 5},\n",
       " {'max_depth': None, 'max_features': None}]"
      ]
     },
     "execution_count": 104,
     "metadata": {},
     "output_type": "execute_result"
    }
   ],
   "source": [
    "gs.cv_results_['params']"
   ]
  },
  {
   "cell_type": "code",
   "execution_count": 105,
   "metadata": {},
   "outputs": [
    {
     "data": {
      "text/plain": [
       "{'max_depth': None, 'max_features': None}"
      ]
     },
     "execution_count": 105,
     "metadata": {},
     "output_type": "execute_result"
    }
   ],
   "source": [
    "# PRINT BEST HYPERPARAMETERS COMBINATION\n",
    "\n",
    "gs.best_params_"
   ]
  },
  {
   "cell_type": "code",
   "execution_count": 106,
   "metadata": {},
   "outputs": [
    {
     "data": {
      "text/plain": [
       "RandomForestClassifier(bootstrap=True, ccp_alpha=0.0, class_weight=None,\n",
       "                       criterion='gini', max_depth=None, max_features=None,\n",
       "                       max_leaf_nodes=None, max_samples=None,\n",
       "                       min_impurity_decrease=0.0, min_impurity_split=None,\n",
       "                       min_samples_leaf=1, min_samples_split=2,\n",
       "                       min_weight_fraction_leaf=0.0, n_estimators=100,\n",
       "                       n_jobs=None, oob_score=False, random_state=101,\n",
       "                       verbose=0, warm_start=False)"
      ]
     },
     "execution_count": 106,
     "metadata": {},
     "output_type": "execute_result"
    }
   ],
   "source": [
    "gs.best_estimator_"
   ]
  },
  {
   "cell_type": "code",
   "execution_count": 107,
   "metadata": {},
   "outputs": [],
   "source": [
    "gs_predictions = gs.predict(x_test)"
   ]
  },
  {
   "cell_type": "code",
   "execution_count": 108,
   "metadata": {},
   "outputs": [
    {
     "data": {
      "text/plain": [
       "0.8397137504104456"
      ]
     },
     "execution_count": 108,
     "metadata": {},
     "output_type": "execute_result"
    }
   ],
   "source": [
    "accuracy_score(y_test, gs_predictions)"
   ]
  },
  {
   "cell_type": "code",
   "execution_count": 113,
   "metadata": {},
   "outputs": [
    {
     "data": {
      "text/html": [
       "<div>\n",
       "<style scoped>\n",
       "    .dataframe tbody tr th:only-of-type {\n",
       "        vertical-align: middle;\n",
       "    }\n",
       "\n",
       "    .dataframe tbody tr th {\n",
       "        vertical-align: top;\n",
       "    }\n",
       "\n",
       "    .dataframe thead th {\n",
       "        text-align: right;\n",
       "    }\n",
       "</style>\n",
       "<table border=\"1\" class=\"dataframe\">\n",
       "  <thead>\n",
       "    <tr style=\"text-align: right;\">\n",
       "      <th></th>\n",
       "      <th>Predicted Good</th>\n",
       "      <th>Predicted Bad</th>\n",
       "    </tr>\n",
       "  </thead>\n",
       "  <tbody>\n",
       "    <tr>\n",
       "      <th>Good Loan</th>\n",
       "      <td>70946</td>\n",
       "      <td>16208</td>\n",
       "    </tr>\n",
       "    <tr>\n",
       "      <th>Bad Loan</th>\n",
       "      <td>389</td>\n",
       "      <td>16003</td>\n",
       "    </tr>\n",
       "  </tbody>\n",
       "</table>\n",
       "</div>"
      ],
      "text/plain": [
       "           Predicted Good  Predicted Bad\n",
       "Good Loan           70946          16208\n",
       "Bad Loan              389          16003"
      ]
     },
     "execution_count": 113,
     "metadata": {},
     "output_type": "execute_result"
    }
   ],
   "source": [
    "confusion_mat_gs = confusion_matrix(y_test, gs_predictions)\n",
    "confusion_GS = pd.DataFrame(confusion_mat_gs, index=['Good Loan','Bad Loan'], columns=['Predicted Good','Predicted Bad'])\n",
    "confusion_GS"
   ]
  },
  {
   "cell_type": "code",
   "execution_count": 114,
   "metadata": {},
   "outputs": [
    {
     "data": {
      "image/png": "[encoded data removed]",
      "text/plain": [
       "<Figure size 432x288 with 2 Axes>"
      ]
     },
     "metadata": {},
     "output_type": "display_data"
    }
   ],
   "source": [
    "_=sns.heatmap(confusion_GS, cmap=\"winter\", annot=True)"
   ]
  },
  {
   "cell_type": "code",
   "execution_count": 116,
   "metadata": {},
   "outputs": [
    {
     "name": "stdout",
     "output_type": "stream",
     "text": [
      "Accuracy: 0.8397137504104456\n",
      "Precision: 0.4968178572537332\n",
      "Recall: 0.9762689116642265\n"
     ]
    }
   ],
   "source": [
    "# CONFUSION MATRIX EVALUATION METRIC\n",
    "\n",
    "print(\"Accuracy:\",metrics.accuracy_score(y_test, gs_predictions))\n",
    "print(\"Precision:\",metrics.precision_score(y_test, gs_predictions))\n",
    "print(\"Recall:\",metrics.recall_score(y_test, gs_predictions))"
   ]
  },
  {
   "cell_type": "code",
   "execution_count": 117,
   "metadata": {},
   "outputs": [],
   "source": [
    "# CALCULATE ROC CURVE\n",
    "\n",
    "from sklearn.metrics import roc_curve, roc_auc_score"
   ]
  },
  {
   "cell_type": "code",
   "execution_count": 120,
   "metadata": {},
   "outputs": [],
   "source": [
    "probs_gs = gs.predict_proba(x_test)[::,1]"
   ]
  },
  {
   "cell_type": "code",
   "execution_count": 121,
   "metadata": {},
   "outputs": [
    {
     "name": "stdout",
     "output_type": "stream",
     "text": [
      "0.9365001101532096\n"
     ]
    }
   ],
   "source": [
    "auc = roc_auc_score(y_test, probs_gs)\n",
    "print(auc)"
   ]
  },
  {
   "cell_type": "code",
   "execution_count": 122,
   "metadata": {},
   "outputs": [],
   "source": [
    "fpr, tpr, threshold = roc_curve(y_test, probs_gs)"
   ]
  },
  {
   "cell_type": "code",
   "execution_count": 123,
   "metadata": {},
   "outputs": [
    {
     "data": {
      "image/png": "[encoded data removed]",
      "text/plain": [
       "<Figure size 792x648 with 1 Axes>"
      ]
     },
     "metadata": {},
     "output_type": "display_data"
    }
   ],
   "source": [
    "plt.figure(figsize=(11,9))\n",
    "plt.title('Receiver Operating Characteristic')\n",
    "plt.plot(fpr, tpr, 'b', label = 'AUC = %0.2f' % auc)\n",
    "plt.legend(loc = 'lower right')\n",
    "plt.plot([0, 1], [0, 1],'r--')\n",
    "plt.xlim([0, 1])\n",
    "plt.ylim([0, 1])\n",
    "plt.ylabel('True Positive Rate')\n",
    "plt.xlabel('False Positive Rate')\n",
    "plt.show()"
   ]
  },
  {
   "cell_type": "markdown",
   "metadata": {},
   "source": [
    "# KEY POINTS"
   ]
  },
  {
   "cell_type": "code",
   "execution_count": null,
   "metadata": {},
   "outputs": [],
   "source": [
    "# Decision Tree & Random Forest have similar Accuracy with  83.97% for later.\n",
    "# However AUC for Random Forest(0.9365) is significantly higher than Decision Tree Model.\n",
    "# Recall Score is significantly high for Random Forest i.e, 97.6 %"
   ]
  }
 ],
 "metadata": {
  "kernelspec": {
   "display_name": "Python 3",
   "language": "python",
   "name": "python3"
  },
  "language_info": {
   "codemirror_mode": {
    "name": "ipython",
    "version": 3
   },
   "file_extension": ".py",
   "mimetype": "text/x-python",
   "name": "python",
   "nbconvert_exporter": "python",
   "pygments_lexer": "ipython3",
   "version": "3.7.6"
  }
 },
 "nbformat": 4,
 "nbformat_minor": 2
}
